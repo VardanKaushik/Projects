{
  "nbformat": 4,
  "nbformat_minor": 0,
  "metadata": {
    "colab": {
      "name": "Machine Learning Week 5",
      "provenance": [],
      "collapsed_sections": []
    },
    "kernelspec": {
      "name": "python3",
      "display_name": "Python 3"
    },
    "accelerator": "GPU"
  },
  "cells": [
    {
      "cell_type": "code",
      "metadata": {
        "id": "jXDjiPzVMlzo"
      },
      "source": [
        "import pandas as pd\r\n",
        "import numpy as np\r\n",
        "import matplotlib.pyplot as plt"
      ],
      "execution_count": null,
      "outputs": []
    },
    {
      "cell_type": "code",
      "metadata": {
        "id": "P1XW2uIMM2hP"
      },
      "source": [
        "tweets = pd.read_csv(\"TextNameGender.csv\",names=['Tweet','Name','Gender'],skiprows=1)\r\n",
        "\r\n",
        "#Shuffling the datasets\r\n",
        "tweets = tweets.sample(frac=1).reset_index(drop=True)"
      ],
      "execution_count": null,
      "outputs": []
    },
    {
      "cell_type": "code",
      "metadata": {
        "colab": {
          "base_uri": "https://localhost:8080/",
          "height": 197
        },
        "id": "OXfRuBaWwOD3",
        "outputId": "9389b7ce-4389-4984-c347-11ac7f497edb"
      },
      "source": [
        "tweets.head()"
      ],
      "execution_count": null,
      "outputs": [
        {
          "output_type": "execute_result",
          "data": {
            "text/html": [
              "<div>\n",
              "<style scoped>\n",
              "    .dataframe tbody tr th:only-of-type {\n",
              "        vertical-align: middle;\n",
              "    }\n",
              "\n",
              "    .dataframe tbody tr th {\n",
              "        vertical-align: top;\n",
              "    }\n",
              "\n",
              "    .dataframe thead th {\n",
              "        text-align: right;\n",
              "    }\n",
              "</style>\n",
              "<table border=\"1\" class=\"dataframe\">\n",
              "  <thead>\n",
              "    <tr style=\"text-align: right;\">\n",
              "      <th></th>\n",
              "      <th>Tweet</th>\n",
              "      <th>Name</th>\n",
              "      <th>Gender</th>\n",
              "    </tr>\n",
              "  </thead>\n",
              "  <tbody>\n",
              "    <tr>\n",
              "      <th>0</th>\n",
              "      <td>The United States has signed over 500 treaties...</td>\n",
              "      <td>Kamala Harris</td>\n",
              "      <td>Female</td>\n",
              "    </tr>\n",
              "    <tr>\n",
              "      <th>1</th>\n",
              "      <td>It's time to #FixTheSystem. https://t.co/Xeieh...</td>\n",
              "      <td>Barack Obama</td>\n",
              "      <td>Male</td>\n",
              "    </tr>\n",
              "    <tr>\n",
              "      <th>2</th>\n",
              "      <td>Thank you, @AlexPadilla4CA, for calling it lik...</td>\n",
              "      <td>Kamala Harris</td>\n",
              "      <td>Female</td>\n",
              "    </tr>\n",
              "    <tr>\n",
              "      <th>3</th>\n",
              "      <td>Some great stories of big-hearted people comin...</td>\n",
              "      <td>Barack Obama</td>\n",
              "      <td>Male</td>\n",
              "    </tr>\n",
              "    <tr>\n",
              "      <th>4</th>\n",
              "      <td>\"After the worst economic crisis of our lifeti...</td>\n",
              "      <td>Barack Obama</td>\n",
              "      <td>Male</td>\n",
              "    </tr>\n",
              "  </tbody>\n",
              "</table>\n",
              "</div>"
            ],
            "text/plain": [
              "                                               Tweet           Name  Gender\n",
              "0  The United States has signed over 500 treaties...  Kamala Harris  Female\n",
              "1  It's time to #FixTheSystem. https://t.co/Xeieh...   Barack Obama    Male\n",
              "2  Thank you, @AlexPadilla4CA, for calling it lik...  Kamala Harris  Female\n",
              "3  Some great stories of big-hearted people comin...   Barack Obama    Male\n",
              "4  \"After the worst economic crisis of our lifeti...   Barack Obama    Male"
            ]
          },
          "metadata": {
            "tags": []
          },
          "execution_count": 5
        }
      ]
    },
    {
      "cell_type": "code",
      "metadata": {
        "id": "X6HRSLLJwWEq",
        "colab": {
          "base_uri": "https://localhost:8080/",
          "height": 197
        },
        "outputId": "ce662377-5b68-4b03-9f0f-e06814c1ec8d"
      },
      "source": [
        "gender_dataset = tweets[[\"Tweet\",\"Gender\"]]\r\n",
        "person_dataset = tweets[[\"Tweet\",\"Name\"]]\r\n",
        "person_dataset.head()"
      ],
      "execution_count": null,
      "outputs": [
        {
          "output_type": "execute_result",
          "data": {
            "text/html": [
              "<div>\n",
              "<style scoped>\n",
              "    .dataframe tbody tr th:only-of-type {\n",
              "        vertical-align: middle;\n",
              "    }\n",
              "\n",
              "    .dataframe tbody tr th {\n",
              "        vertical-align: top;\n",
              "    }\n",
              "\n",
              "    .dataframe thead th {\n",
              "        text-align: right;\n",
              "    }\n",
              "</style>\n",
              "<table border=\"1\" class=\"dataframe\">\n",
              "  <thead>\n",
              "    <tr style=\"text-align: right;\">\n",
              "      <th></th>\n",
              "      <th>Tweet</th>\n",
              "      <th>Name</th>\n",
              "    </tr>\n",
              "  </thead>\n",
              "  <tbody>\n",
              "    <tr>\n",
              "      <th>0</th>\n",
              "      <td>The United States has signed over 500 treaties...</td>\n",
              "      <td>Kamala Harris</td>\n",
              "    </tr>\n",
              "    <tr>\n",
              "      <th>1</th>\n",
              "      <td>It's time to #FixTheSystem. https://t.co/Xeieh...</td>\n",
              "      <td>Barack Obama</td>\n",
              "    </tr>\n",
              "    <tr>\n",
              "      <th>2</th>\n",
              "      <td>Thank you, @AlexPadilla4CA, for calling it lik...</td>\n",
              "      <td>Kamala Harris</td>\n",
              "    </tr>\n",
              "    <tr>\n",
              "      <th>3</th>\n",
              "      <td>Some great stories of big-hearted people comin...</td>\n",
              "      <td>Barack Obama</td>\n",
              "    </tr>\n",
              "    <tr>\n",
              "      <th>4</th>\n",
              "      <td>\"After the worst economic crisis of our lifeti...</td>\n",
              "      <td>Barack Obama</td>\n",
              "    </tr>\n",
              "  </tbody>\n",
              "</table>\n",
              "</div>"
            ],
            "text/plain": [
              "                                               Tweet           Name\n",
              "0  The United States has signed over 500 treaties...  Kamala Harris\n",
              "1  It's time to #FixTheSystem. https://t.co/Xeieh...   Barack Obama\n",
              "2  Thank you, @AlexPadilla4CA, for calling it lik...  Kamala Harris\n",
              "3  Some great stories of big-hearted people comin...   Barack Obama\n",
              "4  \"After the worst economic crisis of our lifeti...   Barack Obama"
            ]
          },
          "metadata": {
            "tags": []
          },
          "execution_count": 6
        }
      ]
    },
    {
      "cell_type": "code",
      "metadata": {
        "id": "A3ElJ_YXxt9V",
        "colab": {
          "base_uri": "https://localhost:8080/",
          "height": 197
        },
        "outputId": "887a56b1-c44a-4b49-da9e-a63ab29094ee"
      },
      "source": [
        "gender_dataset.head()"
      ],
      "execution_count": null,
      "outputs": [
        {
          "output_type": "execute_result",
          "data": {
            "text/html": [
              "<div>\n",
              "<style scoped>\n",
              "    .dataframe tbody tr th:only-of-type {\n",
              "        vertical-align: middle;\n",
              "    }\n",
              "\n",
              "    .dataframe tbody tr th {\n",
              "        vertical-align: top;\n",
              "    }\n",
              "\n",
              "    .dataframe thead th {\n",
              "        text-align: right;\n",
              "    }\n",
              "</style>\n",
              "<table border=\"1\" class=\"dataframe\">\n",
              "  <thead>\n",
              "    <tr style=\"text-align: right;\">\n",
              "      <th></th>\n",
              "      <th>Tweet</th>\n",
              "      <th>Gender</th>\n",
              "    </tr>\n",
              "  </thead>\n",
              "  <tbody>\n",
              "    <tr>\n",
              "      <th>0</th>\n",
              "      <td>The United States has signed over 500 treaties...</td>\n",
              "      <td>Female</td>\n",
              "    </tr>\n",
              "    <tr>\n",
              "      <th>1</th>\n",
              "      <td>It's time to #FixTheSystem. https://t.co/Xeieh...</td>\n",
              "      <td>Male</td>\n",
              "    </tr>\n",
              "    <tr>\n",
              "      <th>2</th>\n",
              "      <td>Thank you, @AlexPadilla4CA, for calling it lik...</td>\n",
              "      <td>Female</td>\n",
              "    </tr>\n",
              "    <tr>\n",
              "      <th>3</th>\n",
              "      <td>Some great stories of big-hearted people comin...</td>\n",
              "      <td>Male</td>\n",
              "    </tr>\n",
              "    <tr>\n",
              "      <th>4</th>\n",
              "      <td>\"After the worst economic crisis of our lifeti...</td>\n",
              "      <td>Male</td>\n",
              "    </tr>\n",
              "  </tbody>\n",
              "</table>\n",
              "</div>"
            ],
            "text/plain": [
              "                                               Tweet  Gender\n",
              "0  The United States has signed over 500 treaties...  Female\n",
              "1  It's time to #FixTheSystem. https://t.co/Xeieh...    Male\n",
              "2  Thank you, @AlexPadilla4CA, for calling it lik...  Female\n",
              "3  Some great stories of big-hearted people comin...    Male\n",
              "4  \"After the worst economic crisis of our lifeti...    Male"
            ]
          },
          "metadata": {
            "tags": []
          },
          "execution_count": 7
        }
      ]
    },
    {
      "cell_type": "code",
      "metadata": {
        "id": "0brYuCqnxxaY"
      },
      "source": [
        "X_tweet = np.array(gender_dataset[\"Tweet\"])\r\n",
        "\r\n",
        "y_gender = np.array(gender_dataset[\"Gender\"])\r\n",
        "y_person = np.array(person_dataset[\"Name\"])"
      ],
      "execution_count": null,
      "outputs": []
    },
    {
      "cell_type": "code",
      "metadata": {
        "id": "HqoDOkQueBw8"
      },
      "source": [
        "#Tokenizing\r\n",
        "\r\n",
        "from nltk.tokenize import TweetTokenizer\r\n",
        "tweet_tokenizer = TweetTokenizer()\r\n",
        "\r\n",
        "X_tokenize = list()\r\n",
        "\r\n",
        "for tweet in X_tweet:\r\n",
        "    X_tokenize.append(tweet_tokenizer.tokenize(tweet))\r\n"
      ],
      "execution_count": null,
      "outputs": []
    },
    {
      "cell_type": "code",
      "metadata": {
        "id": "l-Yhqe5ll1Dv",
        "colab": {
          "base_uri": "https://localhost:8080/"
        },
        "outputId": "b100d033-854b-4792-c1d3-0c59f3e8ca8a"
      },
      "source": [
        "#stop words + punctuation removal\r\n",
        "\r\n",
        "import nltk \r\n",
        "nltk.download('stopwords')\r\n",
        "from nltk.corpus import stopwords\r\n",
        "stop_words = stopwords.words(\"english\")\r\n",
        "\r\n",
        "import string\r\n",
        "punctuations = list(string.punctuation)\r\n",
        "\r\n",
        "stop_words = stop_words + punctuations\r\n",
        "\r\n",
        "stop_words = stop_words + list('’“‚—')\r\n",
        "#stop_words"
      ],
      "execution_count": null,
      "outputs": [
        {
          "output_type": "stream",
          "text": [
            "[nltk_data] Downloading package stopwords to /root/nltk_data...\n",
            "[nltk_data]   Unzipping corpora/stopwords.zip.\n"
          ],
          "name": "stdout"
        }
      ]
    },
    {
      "cell_type": "code",
      "metadata": {
        "id": "7KpuXiTyZDB8"
      },
      "source": [
        "#Lemmatisation\r\n",
        "from nltk.stem import WordNetLemmatizer\r\n",
        "lemmatizer = WordNetLemmatizer()"
      ],
      "execution_count": null,
      "outputs": []
    },
    {
      "cell_type": "code",
      "metadata": {
        "colab": {
          "base_uri": "https://localhost:8080/"
        },
        "id": "WXq0ue_9ZozE",
        "outputId": "bfaf9764-4ac1-424a-e151-951ce20588ba"
      },
      "source": [
        "import nltk\r\n",
        "nltk.download('wordnet')"
      ],
      "execution_count": null,
      "outputs": [
        {
          "output_type": "stream",
          "text": [
            "[nltk_data] Downloading package wordnet to /root/nltk_data...\n",
            "[nltk_data]   Unzipping corpora/wordnet.zip.\n"
          ],
          "name": "stdout"
        },
        {
          "output_type": "execute_result",
          "data": {
            "text/plain": [
              "True"
            ]
          },
          "metadata": {
            "tags": []
          },
          "execution_count": 12
        }
      ]
    },
    {
      "cell_type": "code",
      "metadata": {
        "id": "RgyqY4rtl0-q"
      },
      "source": [
        "#Removing stop word and lemmatizing\r\n",
        "X_clean = []\r\n",
        "for i in range(len(X_tokenize)):\r\n",
        "    temp = []\r\n",
        "    for word in X_tokenize[i]:\r\n",
        "        if word not in stop_words:\r\n",
        "            clean_word = lemmatizer.lemmatize(word)\r\n",
        "            temp.append(clean_word.lower())\r\n",
        "    X_clean.append(temp)\r\n",
        "#X_clean[:20]"
      ],
      "execution_count": null,
      "outputs": []
    },
    {
      "cell_type": "code",
      "metadata": {
        "colab": {
          "base_uri": "https://localhost:8080/"
        },
        "id": "8nBSb3Wll0tp",
        "outputId": "108e28f2-ffbd-44d2-b90b-4768c1bcf000"
      },
      "source": [
        "X_document = []\r\n",
        "for doc in X_clean:\r\n",
        "    X_document.append(\" \".join(doc))\r\n",
        "X_document[:5]"
      ],
      "execution_count": null,
      "outputs": [
        {
          "output_type": "execute_result",
          "data": {
            "text/plain": [
              "['the united states signed 500 treaty tribal nations broken every single one because action native american community lag behind others term health care education economic development together right https://t.co/ktarcednco',\n",
              " \"it's time #fixthesystem https://t.co/xeiehw2uwa\",\n",
              " \"thank @alexpadilla4ca calling like it's disgraceful president united states trying undermine faith election https://t.co/mp6scfjzm5\",\n",
              " 'some great story big-hearted people coming new way come together even remaining apart help vulnerable face tough time ahead https://t.co/kcbqk915jo',\n",
              " 'after worst economic crisis lifetime past five year economy created 12 million new job president obama']"
            ]
          },
          "metadata": {
            "tags": []
          },
          "execution_count": 14
        }
      ]
    },
    {
      "cell_type": "markdown",
      "metadata": {
        "id": "skusD__3pGcl"
      },
      "source": [
        "Cross-validation for the hyperparameters of CountVectorization"
      ]
    },
    {
      "cell_type": "code",
      "metadata": {
        "id": "FaFlMVLEJkKX"
      },
      "source": [
        "def error_plots(x_range,mean_error,std_error,x_name=\"\",title_text=\"\"):\r\n",
        "    '''\r\n",
        "    This function plot errorbars\r\n",
        "    '''\r\n",
        "    plt.xlabel(x_name,fontweight='bold')\r\n",
        "    plt.ylabel(\"Accuracy Score\",fontweight='bold')\r\n",
        "    plt.title(\"Error Bar for \"+title_text,fontweight='bold')\r\n",
        "    plt.errorbar(x_range,mean_error,std_error)\r\n",
        "    plt.show()"
      ],
      "execution_count": null,
      "outputs": []
    },
    {
      "cell_type": "code",
      "metadata": {
        "id": "oIYqmfOnnd1D"
      },
      "source": [
        "#Cross-Validation for Logistic Regression C Value\r\n",
        "from sklearn.linear_model import LogisticRegression\r\n",
        "\r\n",
        "def cross_val_LR(X,y):\r\n",
        "    '''\r\n",
        "    This fucntion takes X data and y data, \r\n",
        "    trains Logistic regression model over the data\r\n",
        "    and return the maximum mean accuracy,\r\n",
        "    standard deviation associated with that maximum accuracy, \r\n",
        "    and the best model parameter value.\r\n",
        "    '''\r\n",
        "\r\n",
        "    C_range = [0.01,0.1,1,10,100]\r\n",
        "\r\n",
        "    mean_accuracy=[]\r\n",
        "    std_accuracy=[]\r\n",
        "\r\n",
        "    for C_value in C_range:\r\n",
        "        temp=[]\r\n",
        "        for train,test in kf.split(X):\r\n",
        "            model = LogisticRegression(C=C_value, max_iter=2000).fit(X[train],y[train])\r\n",
        "            prediction = model.predict(X[test])\r\n",
        "            temp.append(accuracy_score(y[test],prediction))\r\n",
        "        mean_accuracy.append(np.array(temp).mean())\r\n",
        "        std_accuracy.append(np.array(temp).std())\r\n",
        "\r\n",
        "    return (C_range[mean_accuracy.index(max(mean_accuracy))],\r\n",
        "            max(mean_accuracy),\r\n",
        "            std_accuracy[mean_accuracy.index(max(mean_accuracy))])\r\n"
      ],
      "execution_count": null,
      "outputs": []
    },
    {
      "cell_type": "code",
      "metadata": {
        "id": "qLqaphy-s0vN"
      },
      "source": [
        "#Cross validation for KNN\r\n",
        "from sklearn.neighbors import KNeighborsClassifier\r\n",
        "\r\n",
        "def cross_val_KNN(X,y):\r\n",
        "    '''\r\n",
        "    This fucntion takes X data and y data, \r\n",
        "    trains KNN model over the data\r\n",
        "    and return the maximum mean accuracy,\r\n",
        "    standard deviation associated with that maximum accuracy, \r\n",
        "    and the best model parameter value.\r\n",
        "    '''\r\n",
        "    K_range = [2,3,4,5,6,7,8,9,10]\r\n",
        "\r\n",
        "    mean_accuracy=[]\r\n",
        "    std_accuracy=[]\r\n",
        "    for K_value in K_range:\r\n",
        "        temp=[]\r\n",
        "        for train,test in kf.split(X):\r\n",
        "            model = KNeighborsClassifier(n_neighbors=K_value).fit(X[train],y[train])\r\n",
        "            prediction = model.predict(X[test])\r\n",
        "            temp.append(accuracy_score(y[test],prediction))\r\n",
        "        mean_accuracy.append(np.array(temp).mean())\r\n",
        "        std_accuracy.append(np.array(temp).std())\r\n",
        "\r\n",
        "    return ((K_range[mean_accuracy.index(max(mean_accuracy))],\r\n",
        "             max(mean_accuracy),\r\n",
        "            std_accuracy[mean_accuracy.index(max(mean_accuracy))]))"
      ],
      "execution_count": null,
      "outputs": []
    },
    {
      "cell_type": "code",
      "metadata": {
        "id": "l02pjjy9vsev"
      },
      "source": [
        "#Cross-validation for SVM C Value\r\n",
        "from sklearn.svm import LinearSVC\r\n",
        "\r\n",
        "def cross_val_SVC(X,y):\r\n",
        "    '''\r\n",
        "    This fucntion takes X data and y data, \r\n",
        "    trains SVC over the data\r\n",
        "    and return the maximum mean accuracy,\r\n",
        "    standard deviation associated with that maximum accuracy, \r\n",
        "    and the best model parameter value.\r\n",
        "    '''\r\n",
        "\r\n",
        "    C_range = [0.01,0.1,1,10,100]\r\n",
        "\r\n",
        "    mean_accuracy=[]\r\n",
        "    std_accuracy=[]\r\n",
        "\r\n",
        "    for C_value in C_range:\r\n",
        "        temp=[]\r\n",
        "        for train,test in kf.split(X):\r\n",
        "            model = LinearSVC(C=C_value,max_iter=2000).fit(X[train],y[train])\r\n",
        "            prediction = model.predict(X[test])\r\n",
        "            temp.append(accuracy_score(y[test],prediction))\r\n",
        "        mean_accuracy.append(np.array(temp).mean())\r\n",
        "        std_accuracy.append(np.array(temp).std())\r\n",
        "    \r\n",
        "    return ((C_range[mean_accuracy.index(max(mean_accuracy))],\r\n",
        "             max(mean_accuracy),\r\n",
        "            std_accuracy[mean_accuracy.index(max(mean_accuracy))]))"
      ],
      "execution_count": null,
      "outputs": []
    },
    {
      "cell_type": "code",
      "metadata": {
        "id": "QNiFt2MKydOP"
      },
      "source": [
        "def accuracy_errorbar(accuracy_list,x_range,x_name, model_name = \"\"):\r\n",
        "    '''\r\n",
        "    This function doesn't plot errorbars but calls the error_bar function\r\n",
        "    it is mainly used to segregate best parameters, max accuracy with it's\r\n",
        "    standrad deviation\r\n",
        "    '''\r\n",
        "    accuracy_list = np.array(accuracy_list)\r\n",
        "    (parameter_range, max_accuracy, max_std )= (accuracy_list[:,0],\r\n",
        "                                                accuracy_list[:,1],\r\n",
        "                                                accuracy_list[:,2])\r\n",
        "\r\n",
        "    error_plots(x_range,max_accuracy, max_std,x_name+\" range\", model_name)\r\n",
        "\r\n",
        "    max_accuracy_index = list(max_accuracy).index(max(max_accuracy))\r\n",
        "    print(\"For \"+model_name+\"\\n\\tbest model parameter value = {}\\n\\tbest \".\r\n",
        "          format(parameter_range[max_accuracy_index])+x_name+\" value = {}\\n\\twith accuracy score = {}\"\r\n",
        "    .format(x_range[max_accuracy_index],max(max_accuracy)))\r\n"
      ],
      "execution_count": null,
      "outputs": []
    },
    {
      "cell_type": "code",
      "metadata": {
        "id": "O4V4AiVPlF5-"
      },
      "source": [
        "#K-Fold Cross-validation \r\n",
        "from sklearn.model_selection import KFold\r\n",
        "from sklearn.metrics import accuracy_score\r\n",
        "from sklearn.feature_extraction.text import CountVectorizer\r\n",
        "\r\n",
        "#Using 5 splits for KFold\r\n",
        "kf = KFold(n_splits = 5)"
      ],
      "execution_count": null,
      "outputs": []
    },
    {
      "cell_type": "code",
      "metadata": {
        "colab": {
          "base_uri": "https://localhost:8080/",
          "height": 1000
        },
        "id": "r13B0XGDkxjX",
        "outputId": "9de901aa-9e5b-4887-c989-8d5544fa3c9f"
      },
      "source": [
        "#cross validation for Max_df\r\n",
        "max_df_range = [0.4,0.5,0.6,0.7,0.8,0.9,1]\r\n",
        "\r\n",
        "\r\n",
        "max_accuracy_LR = []\r\n",
        "max_accuracy_KNN = []\r\n",
        "max_accuracy_SVC = []\r\n",
        "\r\n",
        "for max_df_value in max_df_range:\r\n",
        "    count_vector = CountVectorizer(max_features=5000, ngram_range=(1,2), max_df = max_df_value)\r\n",
        "    X_cross_features = count_vector.fit_transform(X_document)\r\n",
        "    X_cross_features.todense()\r\n",
        "    max_accuracy_LR.append(cross_val_LR(X_cross_features,y_gender))\r\n",
        "    max_accuracy_KNN.append(cross_val_KNN(X_cross_features,y_gender))\r\n",
        "    max_accuracy_SVC.append(cross_val_SVC(X_cross_features,y_gender))\r\n",
        "\r\n",
        "accuracy_errorbar(max_accuracy_LR,max_df_range,\"Max_df\", \"Logistic Regression : Max_df\")\r\n",
        "accuracy_errorbar(max_accuracy_KNN,max_df_range,\"Max_df\", \"KNN : Max_df\")\r\n",
        "accuracy_errorbar(max_accuracy_SVC,max_df_range,\"Max_df\", \"SVC : Max_df\")"
      ],
      "execution_count": null,
      "outputs": [
        {
          "output_type": "stream",
          "text": [
            "0.4\n"
          ],
          "name": "stdout"
        },
        {
          "output_type": "stream",
          "text": [
            "/usr/local/lib/python3.6/dist-packages/sklearn/svm/_base.py:947: ConvergenceWarning: Liblinear failed to converge, increase the number of iterations.\n",
            "  \"the number of iterations.\", ConvergenceWarning)\n"
          ],
          "name": "stderr"
        },
        {
          "output_type": "stream",
          "text": [
            "0.5\n"
          ],
          "name": "stdout"
        },
        {
          "output_type": "stream",
          "text": [
            "/usr/local/lib/python3.6/dist-packages/sklearn/svm/_base.py:947: ConvergenceWarning: Liblinear failed to converge, increase the number of iterations.\n",
            "  \"the number of iterations.\", ConvergenceWarning)\n"
          ],
          "name": "stderr"
        },
        {
          "output_type": "stream",
          "text": [
            "0.6\n"
          ],
          "name": "stdout"
        },
        {
          "output_type": "stream",
          "text": [
            "/usr/local/lib/python3.6/dist-packages/sklearn/svm/_base.py:947: ConvergenceWarning: Liblinear failed to converge, increase the number of iterations.\n",
            "  \"the number of iterations.\", ConvergenceWarning)\n"
          ],
          "name": "stderr"
        },
        {
          "output_type": "stream",
          "text": [
            "0.7\n"
          ],
          "name": "stdout"
        },
        {
          "output_type": "stream",
          "text": [
            "/usr/local/lib/python3.6/dist-packages/sklearn/svm/_base.py:947: ConvergenceWarning: Liblinear failed to converge, increase the number of iterations.\n",
            "  \"the number of iterations.\", ConvergenceWarning)\n"
          ],
          "name": "stderr"
        },
        {
          "output_type": "stream",
          "text": [
            "0.8\n"
          ],
          "name": "stdout"
        },
        {
          "output_type": "stream",
          "text": [
            "/usr/local/lib/python3.6/dist-packages/sklearn/svm/_base.py:947: ConvergenceWarning: Liblinear failed to converge, increase the number of iterations.\n",
            "  \"the number of iterations.\", ConvergenceWarning)\n"
          ],
          "name": "stderr"
        },
        {
          "output_type": "stream",
          "text": [
            "0.9\n"
          ],
          "name": "stdout"
        },
        {
          "output_type": "stream",
          "text": [
            "/usr/local/lib/python3.6/dist-packages/sklearn/svm/_base.py:947: ConvergenceWarning: Liblinear failed to converge, increase the number of iterations.\n",
            "  \"the number of iterations.\", ConvergenceWarning)\n"
          ],
          "name": "stderr"
        },
        {
          "output_type": "stream",
          "text": [
            "1\n"
          ],
          "name": "stdout"
        },
        {
          "output_type": "stream",
          "text": [
            "/usr/local/lib/python3.6/dist-packages/sklearn/svm/_base.py:947: ConvergenceWarning: Liblinear failed to converge, increase the number of iterations.\n",
            "  \"the number of iterations.\", ConvergenceWarning)\n"
          ],
          "name": "stderr"
        },
        {
          "output_type": "display_data",
          "data": {
            "image/png": "[encoded data removed]",
            "text/plain": [
              "<Figure size 432x288 with 1 Axes>"
            ]
          },
          "metadata": {
            "tags": [],
            "needs_background": "light"
          }
        },
        {
          "output_type": "stream",
          "text": [
            "For Logistic Regression : Max_df\n",
            "\tbest model parameter value = 1.0\n",
            "\tbest Max_df value = 0.6\n",
            "\twith accuracy score = 0.8404185742315239\n"
          ],
          "name": "stdout"
        },
        {
          "output_type": "display_data",
          "data": {
            "image/png": "[encoded data removed]",
            "text/plain": [
              "<Figure size 432x288 with 1 Axes>"
            ]
          },
          "metadata": {
            "tags": [],
            "needs_background": "light"
          }
        },
        {
          "output_type": "stream",
          "text": [
            "For KNN : Max_df\n",
            "\tbest model parameter value = 2.0\n",
            "\tbest Max_df value = 0.4\n",
            "\twith accuracy score = 0.6674296926095488\n"
          ],
          "name": "stdout"
        },
        {
          "output_type": "display_data",
          "data": {
            "image/png": "[encoded data removed]",
            "text/plain": [
              "<Figure size 432x288 with 1 Axes>"
            ]
          },
          "metadata": {
            "tags": [],
            "needs_background": "light"
          }
        },
        {
          "output_type": "stream",
          "text": [
            "For SVC : Max_df\n",
            "\tbest model parameter value = 0.1\n",
            "\tbest Max_df value = 0.6\n",
            "\twith accuracy score = 0.8376716808371484\n"
          ],
          "name": "stdout"
        }
      ]
    },
    {
      "cell_type": "code",
      "metadata": {
        "colab": {
          "base_uri": "https://localhost:8080/",
          "height": 1000
        },
        "id": "jZc7tFSa7E1J",
        "outputId": "f742ce81-42b7-46c2-a7ec-40f4d4b94e36"
      },
      "source": [
        "#cross validation for Min_df\r\n",
        "min_df_range = [0,0.1,0.2,0.3,0.4]\r\n",
        "min_accuracy_LR = []\r\n",
        "min_accuracy_KNN = []\r\n",
        "min_accuracy_SVC = []\r\n",
        "\r\n",
        "for min_df_value in min_df_range:\r\n",
        "    count_vector = CountVectorizer(max_features=5000, ngram_range=(1,2), min_df = min_df_value)\r\n",
        "    X_cross_features = count_vector.fit_transform(X_document)\r\n",
        "    X_cross_features.todense()\r\n",
        "    min_accuracy_LR.append(cross_val_LR(X_cross_features,y_gender))\r\n",
        "    min_accuracy_KNN.append(cross_val_KNN(X_cross_features,y_gender))\r\n",
        "    min_accuracy_SVC.append(cross_val_SVC(X_cross_features,y_gender))\r\n",
        "\r\n",
        "accuracy_errorbar(min_accuracy_LR,min_df_range,\"Min_df\", \"Logistic Regression : Min_df\")\r\n",
        "accuracy_errorbar(min_accuracy_KNN,min_df_range,\"Min_df\", \"KNN : Min_df\")\r\n",
        "accuracy_errorbar(min_accuracy_SVC,min_df_range,\"Min_df\", \"SVC : Min_df\")"
      ],
      "execution_count": null,
      "outputs": [
        {
          "output_type": "stream",
          "text": [
            "0\n"
          ],
          "name": "stdout"
        },
        {
          "output_type": "stream",
          "text": [
            "/usr/local/lib/python3.6/dist-packages/sklearn/svm/_base.py:947: ConvergenceWarning: Liblinear failed to converge, increase the number of iterations.\n",
            "  \"the number of iterations.\", ConvergenceWarning)\n"
          ],
          "name": "stderr"
        },
        {
          "output_type": "stream",
          "text": [
            "0.1\n"
          ],
          "name": "stdout"
        },
        {
          "output_type": "stream",
          "text": [
            "/usr/local/lib/python3.6/dist-packages/sklearn/svm/_base.py:947: ConvergenceWarning: Liblinear failed to converge, increase the number of iterations.\n",
            "  \"the number of iterations.\", ConvergenceWarning)\n"
          ],
          "name": "stderr"
        },
        {
          "output_type": "stream",
          "text": [
            "0.2\n"
          ],
          "name": "stdout"
        },
        {
          "output_type": "stream",
          "text": [
            "/usr/local/lib/python3.6/dist-packages/sklearn/svm/_base.py:947: ConvergenceWarning: Liblinear failed to converge, increase the number of iterations.\n",
            "  \"the number of iterations.\", ConvergenceWarning)\n"
          ],
          "name": "stderr"
        },
        {
          "output_type": "stream",
          "text": [
            "0.3\n"
          ],
          "name": "stdout"
        },
        {
          "output_type": "stream",
          "text": [
            "/usr/local/lib/python3.6/dist-packages/sklearn/svm/_base.py:947: ConvergenceWarning: Liblinear failed to converge, increase the number of iterations.\n",
            "  \"the number of iterations.\", ConvergenceWarning)\n"
          ],
          "name": "stderr"
        },
        {
          "output_type": "stream",
          "text": [
            "0.4\n"
          ],
          "name": "stdout"
        },
        {
          "output_type": "stream",
          "text": [
            "/usr/local/lib/python3.6/dist-packages/sklearn/svm/_base.py:947: ConvergenceWarning: Liblinear failed to converge, increase the number of iterations.\n",
            "  \"the number of iterations.\", ConvergenceWarning)\n"
          ],
          "name": "stderr"
        },
        {
          "output_type": "display_data",
          "data": {
            "image/png": "[encoded data removed]",
            "text/plain": [
              "<Figure size 432x288 with 1 Axes>"
            ]
          },
          "metadata": {
            "tags": [],
            "needs_background": "light"
          }
        },
        {
          "output_type": "stream",
          "text": [
            "For Logistic Regression : Min_df\n",
            "\tbest model parameter value = 1.0\n",
            "\tbest Min_df value = 0\n",
            "\twith accuracy score = 0.8396337475474166\n"
          ],
          "name": "stdout"
        },
        {
          "output_type": "display_data",
          "data": {
            "image/png": "[encoded data removed]",
            "text/plain": [
              "<Figure size 432x288 with 1 Axes>"
            ]
          },
          "metadata": {
            "tags": [],
            "needs_background": "light"
          }
        },
        {
          "output_type": "stream",
          "text": [
            "For KNN : Min_df\n",
            "\tbest model parameter value = 2.0\n",
            "\tbest Min_df value = 0\n",
            "\twith accuracy score = 0.6482014388489208\n"
          ],
          "name": "stdout"
        },
        {
          "output_type": "display_data",
          "data": {
            "image/png": "[encoded data removed]",
            "text/plain": [
              "<Figure size 432x288 with 1 Axes>"
            ]
          },
          "metadata": {
            "tags": [],
            "needs_background": "light"
          }
        },
        {
          "output_type": "stream",
          "text": [
            "For SVC : Min_df\n",
            "\tbest model parameter value = 0.1\n",
            "\tbest Min_df value = 0\n",
            "\twith accuracy score = 0.8364944408109876\n"
          ],
          "name": "stdout"
        }
      ]
    },
    {
      "cell_type": "code",
      "metadata": {
        "colab": {
          "base_uri": "https://localhost:8080/",
          "height": 1000
        },
        "id": "ldsxXCkx7yNp",
        "outputId": "dcca1330-94f1-40d2-ec94-ed66fbcbc13c"
      },
      "source": [
        "#cross validation for Max_features\r\n",
        "max_features_range = [100,500,1000,2000,3000,5000]\r\n",
        "\r\n",
        "\r\n",
        "features_accuracy_LR = []\r\n",
        "features_accuracy_KNN = []\r\n",
        "features_accuracy_SVC = []\r\n",
        "\r\n",
        "for max_features_value in max_features_range:\r\n",
        "    count_vector = CountVectorizer(max_features=max_features_value, ngram_range=(1,2))\r\n",
        "    X_cross_features = count_vector.fit_transform(X_document)\r\n",
        "    X_cross_features.todense()\r\n",
        "    features_accuracy_LR.append(cross_val_LR(X_cross_features,y_gender))\r\n",
        "    features_accuracy_KNN.append(cross_val_KNN(X_cross_features,y_gender))\r\n",
        "    features_accuracy_SVC.append(cross_val_SVC(X_cross_features,y_gender))\r\n",
        "\r\n",
        "accuracy_errorbar(features_accuracy_LR,max_features_range,\"Max_features\", \"Logistic Regression : max_features\")\r\n",
        "accuracy_errorbar(features_accuracy_KNN,max_features_range,\"Max_features\", \"KNN : max_features\")\r\n",
        "accuracy_errorbar(features_accuracy_SVC,max_features_range,\"Max_features\", \"SVC : max_features\")"
      ],
      "execution_count": null,
      "outputs": [
        {
          "output_type": "stream",
          "text": [
            "100\n"
          ],
          "name": "stdout"
        },
        {
          "output_type": "stream",
          "text": [
            "/usr/local/lib/python3.6/dist-packages/sklearn/svm/_base.py:947: ConvergenceWarning: Liblinear failed to converge, increase the number of iterations.\n",
            "  \"the number of iterations.\", ConvergenceWarning)\n"
          ],
          "name": "stderr"
        },
        {
          "output_type": "stream",
          "text": [
            "500\n"
          ],
          "name": "stdout"
        },
        {
          "output_type": "stream",
          "text": [
            "/usr/local/lib/python3.6/dist-packages/sklearn/svm/_base.py:947: ConvergenceWarning: Liblinear failed to converge, increase the number of iterations.\n",
            "  \"the number of iterations.\", ConvergenceWarning)\n"
          ],
          "name": "stderr"
        },
        {
          "output_type": "stream",
          "text": [
            "1000\n"
          ],
          "name": "stdout"
        },
        {
          "output_type": "stream",
          "text": [
            "/usr/local/lib/python3.6/dist-packages/sklearn/svm/_base.py:947: ConvergenceWarning: Liblinear failed to converge, increase the number of iterations.\n",
            "  \"the number of iterations.\", ConvergenceWarning)\n"
          ],
          "name": "stderr"
        },
        {
          "output_type": "stream",
          "text": [
            "2000\n"
          ],
          "name": "stdout"
        },
        {
          "output_type": "stream",
          "text": [
            "/usr/local/lib/python3.6/dist-packages/sklearn/svm/_base.py:947: ConvergenceWarning: Liblinear failed to converge, increase the number of iterations.\n",
            "  \"the number of iterations.\", ConvergenceWarning)\n"
          ],
          "name": "stderr"
        },
        {
          "output_type": "stream",
          "text": [
            "3000\n"
          ],
          "name": "stdout"
        },
        {
          "output_type": "stream",
          "text": [
            "/usr/local/lib/python3.6/dist-packages/sklearn/svm/_base.py:947: ConvergenceWarning: Liblinear failed to converge, increase the number of iterations.\n",
            "  \"the number of iterations.\", ConvergenceWarning)\n"
          ],
          "name": "stderr"
        },
        {
          "output_type": "stream",
          "text": [
            "5000\n"
          ],
          "name": "stdout"
        },
        {
          "output_type": "stream",
          "text": [
            "/usr/local/lib/python3.6/dist-packages/sklearn/svm/_base.py:947: ConvergenceWarning: Liblinear failed to converge, increase the number of iterations.\n",
            "  \"the number of iterations.\", ConvergenceWarning)\n"
          ],
          "name": "stderr"
        },
        {
          "output_type": "display_data",
          "data": {
            "image/png": "[encoded data removed]",
            "text/plain": [
              "<Figure size 432x288 with 1 Axes>"
            ]
          },
          "metadata": {
            "tags": [],
            "needs_background": "light"
          }
        },
        {
          "output_type": "stream",
          "text": [
            "For Logistic Regression : max_features\n",
            "\tbest model parameter value = 1.0\n",
            "\tbest Max_features value = 5000\n",
            "\twith accuracy score = 0.8396337475474166\n"
          ],
          "name": "stdout"
        },
        {
          "output_type": "display_data",
          "data": {
            "image/png": "[encoded data removed]",
            "text/plain": [
              "<Figure size 432x288 with 1 Axes>"
            ]
          },
          "metadata": {
            "tags": [],
            "needs_background": "light"
          }
        },
        {
          "output_type": "stream",
          "text": [
            "For KNN : max_features\n",
            "\tbest model parameter value = 2.0\n",
            "\tbest Max_features value = 500\n",
            "\twith accuracy score = 0.6737737083060825\n"
          ],
          "name": "stdout"
        },
        {
          "output_type": "display_data",
          "data": {
            "image/png": "[encoded data removed]",
            "text/plain": [
              "<Figure size 432x288 with 1 Axes>"
            ]
          },
          "metadata": {
            "tags": [],
            "needs_background": "light"
          }
        },
        {
          "output_type": "stream",
          "text": [
            "For SVC : max_features\n",
            "\tbest model parameter value = 0.1\n",
            "\tbest Max_features value = 5000\n",
            "\twith accuracy score = 0.8364944408109876\n"
          ],
          "name": "stdout"
        }
      ]
    },
    {
      "cell_type": "code",
      "metadata": {
        "colab": {
          "base_uri": "https://localhost:8080/",
          "height": 1000
        },
        "id": "oo0xmLAxEy3R",
        "outputId": "69256ba9-030d-4ae7-ade3-5571bc73b7ad"
      },
      "source": [
        "#Cross-validation for ngram_range\r\n",
        "\r\n",
        "max_ngram_range=[1,2,3]\r\n",
        "\r\n",
        "ngram_accuracy_LR = []\r\n",
        "ngram_accuracy_KNN = []\r\n",
        "ngram_accuracy_SVC = []\r\n",
        "\r\n",
        "for max_ngram_value in max_ngram_range:\r\n",
        "    count_vector = CountVectorizer(max_features=2000, ngram_range=(1,max_ngram_value))\r\n",
        "    X_cross_features = count_vector.fit_transform(X_document)\r\n",
        "    X_cross_features.todense()\r\n",
        "    ngram_accuracy_LR.append(cross_val_LR(X_cross_features,y_gender))\r\n",
        "    ngram_accuracy_KNN.append(cross_val_KNN(X_cross_features,y_gender))\r\n",
        "    ngram_accuracy_SVC.append(cross_val_SVC(X_cross_features,y_gender))\r\n",
        "\r\n",
        "accuracy_errorbar(ngram_accuracy_LR,max_ngram_range,\"ngram\", \"Logistic Regression : ngram_range\")\r\n",
        "accuracy_errorbar(ngram_accuracy_KNN,max_ngram_range,\"ngram\", \"KNN : ngram_range\")\r\n",
        "accuracy_errorbar(ngram_accuracy_SVC,max_ngram_range,\"ngram\", \"SVC : ngram_range\")"
      ],
      "execution_count": null,
      "outputs": [
        {
          "output_type": "stream",
          "text": [
            "/usr/local/lib/python3.6/dist-packages/sklearn/svm/_base.py:947: ConvergenceWarning: Liblinear failed to converge, increase the number of iterations.\n",
            "  \"the number of iterations.\", ConvergenceWarning)\n",
            "/usr/local/lib/python3.6/dist-packages/sklearn/svm/_base.py:947: ConvergenceWarning: Liblinear failed to converge, increase the number of iterations.\n",
            "  \"the number of iterations.\", ConvergenceWarning)\n",
            "/usr/local/lib/python3.6/dist-packages/sklearn/svm/_base.py:947: ConvergenceWarning: Liblinear failed to converge, increase the number of iterations.\n",
            "  \"the number of iterations.\", ConvergenceWarning)\n"
          ],
          "name": "stderr"
        },
        {
          "output_type": "display_data",
          "data": {
            "image/png": "[encoded data removed]",
            "text/plain": [
              "<Figure size 432x288 with 1 Axes>"
            ]
          },
          "metadata": {
            "tags": [],
            "needs_background": "light"
          }
        },
        {
          "output_type": "stream",
          "text": [
            "For Logistic Regression : ngram_range\n",
            "\tbest model parameter value = 1.0\n",
            "\tbest ngram value = 2\n",
            "\twith accuracy score = 0.8194898626553304\n"
          ],
          "name": "stdout"
        },
        {
          "output_type": "display_data",
          "data": {
            "image/png": "[encoded data removed]",
            "text/plain": [
              "<Figure size 432x288 with 1 Axes>"
            ]
          },
          "metadata": {
            "tags": [],
            "needs_background": "light"
          }
        },
        {
          "output_type": "stream",
          "text": [
            "For KNN : ngram_range\n",
            "\tbest model parameter value = 2.0\n",
            "\tbest ngram value = 3\n",
            "\twith accuracy score = 0.6626553302812296\n"
          ],
          "name": "stdout"
        },
        {
          "output_type": "display_data",
          "data": {
            "image/png": "[encoded data removed]",
            "text/plain": [
              "<Figure size 432x288 with 1 Axes>"
            ]
          },
          "metadata": {
            "tags": [],
            "needs_background": "light"
          }
        },
        {
          "output_type": "stream",
          "text": [
            "For SVC : ngram_range\n",
            "\tbest model parameter value = 0.1\n",
            "\tbest ngram value = 2\n",
            "\twith accuracy score = 0.8162197514715501\n"
          ],
          "name": "stdout"
        }
      ]
    },
    {
      "cell_type": "markdown",
      "metadata": {
        "id": "x9gp_8bqolyf"
      },
      "source": [
        "**Cross-validation for Hyperparameters of the models**"
      ]
    },
    {
      "cell_type": "markdown",
      "metadata": {
        "id": "0WyiLf0703lR"
      },
      "source": [
        "Best hyperparameters for countVector\r\n",
        "\r\n",
        "ngram - (1,2)\r\n",
        "\r\n",
        "max_features - 5000\r\n",
        "\r\n",
        "max_df = 0.6\r\n",
        "\r\n",
        "min_df = 0"
      ]
    },
    {
      "cell_type": "code",
      "metadata": {
        "colab": {
          "base_uri": "https://localhost:8080/"
        },
        "id": "gIXZPG6cjGem",
        "outputId": "84f05164-362f-49f7-cc9f-64fccd7a19e4"
      },
      "source": [
        "#Vectorizing our dataset\r\n",
        "from sklearn.feature_extraction.text import CountVectorizer\r\n",
        "\r\n",
        "count_vec = CountVectorizer(max_features = 5000, ngram_range = (1,2), min_df = 0, max_df=0.6)\r\n",
        "\r\n",
        "X_features = count_vec.fit_transform(X_document)\r\n",
        "X_features.todense()"
      ],
      "execution_count": null,
      "outputs": [
        {
          "output_type": "execute_result",
          "data": {
            "text/plain": [
              "matrix([[0, 0, 0, ..., 0, 0, 0],\n",
              "        [0, 0, 0, ..., 0, 0, 0],\n",
              "        [0, 0, 0, ..., 0, 0, 0],\n",
              "        ...,\n",
              "        [0, 0, 0, ..., 0, 0, 0],\n",
              "        [0, 0, 0, ..., 0, 0, 0],\n",
              "        [0, 0, 0, ..., 0, 0, 0]])"
            ]
          },
          "metadata": {
            "tags": []
          },
          "execution_count": 21
        }
      ]
    },
    {
      "cell_type": "code",
      "metadata": {
        "id": "RSPA7yCEELud",
        "colab": {
          "base_uri": "https://localhost:8080/",
          "height": 1000
        },
        "outputId": "2cd08133-df69-423d-d7eb-3b61b36b451f"
      },
      "source": [
        "#Error-bars for Logistic Regression C Value\r\n",
        "from sklearn.linear_model import LogisticRegression\r\n",
        "\r\n",
        "def error_bar_LR(X,y):\r\n",
        "    '''\r\n",
        "    This fucntion takes X data and y data, \r\n",
        "    trains Logistic regression model over the data\r\n",
        "    then plots errorbar of mean accuracy and standard deviation in accuracy \r\n",
        "    values of different splits.\r\n",
        "    It then gives the best parameter value with an accuracy score\r\n",
        "    '''\r\n",
        "\r\n",
        "    C_range = [0.01,0.1,1,10,100]\r\n",
        "\r\n",
        "    mean_accuracy=[]\r\n",
        "    std_accuracy=[]\r\n",
        "\r\n",
        "    for C_value in C_range:\r\n",
        "        temp=[]\r\n",
        "        for train,test in kf.split(X):\r\n",
        "            model = LogisticRegression(C=C_value, max_iter=2000).fit(X[train],y[train])\r\n",
        "            prediction = model.predict(X[test])\r\n",
        "            temp.append(accuracy_score(y[test],prediction))\r\n",
        "        mean_accuracy.append(np.array(temp).mean())\r\n",
        "        std_accuracy.append(np.array(temp).std())\r\n",
        "\r\n",
        "    #Error bar for Logistic Regression\r\n",
        "    error_plots(C_range,mean_accuracy,std_accuracy,\"C range\",\"for Logistic Regression\")\r\n",
        "    error_plots(C_range[:4],mean_accuracy[:4],std_accuracy[:4],\"C range\",\"for Logistic Regression\")\r\n",
        "\r\n",
        "    print(\"For Logistic Regression\\n\\tbest value of C - {}\\n\\twith accuracy = {}\".\r\n",
        "          format(C_range[mean_accuracy.index(max(mean_accuracy))],max(mean_accuracy)))\r\n",
        "\r\n",
        "error_bar_LR(X_features,y_gender)"
      ],
      "execution_count": null,
      "outputs": [
        {
          "output_type": "display_data",
          "data": {
            "image/png": "[encoded data removed]",
            "text/plain": [
              "<Figure size 432x288 with 1 Axes>"
            ]
          },
          "metadata": {
            "tags": [],
            "needs_background": "light"
          }
        },
        {
          "output_type": "display_data",
          "data": {
            "image/png": "[encoded data removed]",
            "text/plain": [
              "<Figure size 432x288 with 1 Axes>"
            ]
          },
          "metadata": {
            "tags": [],
            "needs_background": "light"
          }
        },
        {
          "output_type": "stream",
          "text": [
            "For Logistic Regression\n",
            "\tbest value of C - 1\n",
            "\twith accuracy = 0.8404185742315239\n"
          ],
          "name": "stdout"
        },
        {
          "output_type": "display_data",
          "data": {
            "image/png": "[encoded data removed]",
            "text/plain": [
              "<Figure size 432x288 with 1 Axes>"
            ]
          },
          "metadata": {
            "tags": [],
            "needs_background": "light"
          }
        },
        {
          "output_type": "display_data",
          "data": {
            "image/png": "[encoded data removed]",
            "text/plain": [
              "<Figure size 432x288 with 1 Axes>"
            ]
          },
          "metadata": {
            "tags": [],
            "needs_background": "light"
          }
        },
        {
          "output_type": "stream",
          "text": [
            "For Logistic Regression\n",
            "\tbest value of C - 1\n",
            "\twith accuracy = 0.772661870503597\n"
          ],
          "name": "stdout"
        }
      ]
    },
    {
      "cell_type": "code",
      "metadata": {
        "colab": {
          "base_uri": "https://localhost:8080/",
          "height": 347
        },
        "id": "U395tF26MYyn",
        "outputId": "7748a075-d7b7-43eb-c28c-49cd9906e115"
      },
      "source": [
        "#Error bar for KNN\r\n",
        "from sklearn.neighbors import KNeighborsClassifier\r\n",
        "\r\n",
        "def error_bar_KNN(X,y):\r\n",
        "    '''\r\n",
        "    This fucntion takes X data and y data, \r\n",
        "    trains KNN model over the data\r\n",
        "    then plots errorbar of mean accuracy and standard deviation in accuracy \r\n",
        "    values of different splits.\r\n",
        "    It then gives the best parameter value with an accuracy score\r\n",
        "    '''\r\n",
        "    K_range = [2,3,4,5,6,7,8,9,10]\r\n",
        "\r\n",
        "    mean_accuracy=[]\r\n",
        "    std_accuracy=[]\r\n",
        "    for K_value in K_range:\r\n",
        "        temp=[]\r\n",
        "        for train,test in kf.split(X):\r\n",
        "            model = KNeighborsClassifier(n_neighbors=K_value).fit(X[train],y[train])\r\n",
        "            prediction = model.predict(X[test])\r\n",
        "            temp.append(accuracy_score(y[test],prediction))\r\n",
        "        mean_accuracy.append(np.array(temp).mean())\r\n",
        "        std_accuracy.append(np.array(temp).std())\r\n",
        "\r\n",
        "    #Error bar for KNN\r\n",
        "    error_plots(K_range,mean_accuracy,std_accuracy,\"C range\",\"for KNN\")\r\n",
        "\r\n",
        "    print(\"For KNN\\n\\tbest value of K - {}\\n\\twith accuracy = {}\".\r\n",
        "          format(K_range[mean_accuracy.index(max(mean_accuracy))],max(mean_accuracy)))\r\n",
        "    \r\n",
        "error_bar_KNN(X_features,y_gender)"
      ],
      "execution_count": null,
      "outputs": [
        {
          "output_type": "display_data",
          "data": {
            "image/png": "[encoded data removed]",
            "text/plain": [
              "<Figure size 432x288 with 1 Axes>"
            ]
          },
          "metadata": {
            "tags": [],
            "needs_background": "light"
          }
        },
        {
          "output_type": "stream",
          "text": [
            "For KNN\n",
            "\tbest value of K - 2\n",
            "\twith accuracy = 0.6524525833878352\n"
          ],
          "name": "stdout"
        }
      ]
    },
    {
      "cell_type": "code",
      "metadata": {
        "colab": {
          "base_uri": "https://localhost:8080/",
          "height": 751
        },
        "id": "6-EysRxVh-8u",
        "outputId": "25903861-06d4-440c-81e1-4da6d563c615"
      },
      "source": [
        "#Error bar for SVM C Value\r\n",
        "from sklearn.svm import LinearSVC\r\n",
        "\r\n",
        "def error_bar_SVC(X,y):\r\n",
        "    '''\r\n",
        "    This fucntion takes X data and y data, \r\n",
        "    trains SVC model over the data\r\n",
        "    then plots errorbar of mean accuracy and standard deviation in accuracy \r\n",
        "    values of different splits.\r\n",
        "    It then gives the best parameter value with an accuracy score\r\n",
        "    '''\r\n",
        "\r\n",
        "    C_range = [0.01,0.1,1,10,100]\r\n",
        "\r\n",
        "    mean_accuracy=[]\r\n",
        "    std_accuracy=[]\r\n",
        "\r\n",
        "    for C_value in C_range:\r\n",
        "        temp=[]\r\n",
        "        print(C_value)\r\n",
        "        for train,test in kf.split(X):\r\n",
        "            model = LinearSVC(C=C_value,max_iter=1000).fit(X[train],y[train])\r\n",
        "            prediction = model.predict(X[test])\r\n",
        "            temp.append(accuracy_score(y[test],prediction))\r\n",
        "        mean_accuracy.append(np.array(temp).mean())\r\n",
        "        std_accuracy.append(np.array(temp).std())\r\n",
        "    \r\n",
        "    #Error bar for SVC\r\n",
        "    error_plots(C_range,mean_accuracy,std_accuracy,\"C range\",\"for SVC\")\r\n",
        "    error_plots(C_range[:3],mean_accuracy[:3],std_accuracy[:3],\"C range\",\"for SVC\")\r\n",
        "\r\n",
        "    print(\"For SVC\\n\\tbest value of C - {}\\n\\twith accuracy = {}\".\r\n",
        "          format(C_range[mean_accuracy.index(max(mean_accuracy))],max(mean_accuracy)))\r\n",
        "    \r\n",
        "error_bar_SVC(X_features,y_gender)"
      ],
      "execution_count": null,
      "outputs": [
        {
          "output_type": "stream",
          "text": [
            "0.01\n",
            "0.1\n",
            "1\n",
            "10\n"
          ],
          "name": "stdout"
        },
        {
          "output_type": "stream",
          "text": [
            "/usr/local/lib/python3.6/dist-packages/sklearn/svm/_base.py:947: ConvergenceWarning: Liblinear failed to converge, increase the number of iterations.\n",
            "  \"the number of iterations.\", ConvergenceWarning)\n"
          ],
          "name": "stderr"
        },
        {
          "output_type": "stream",
          "text": [
            "100\n"
          ],
          "name": "stdout"
        },
        {
          "output_type": "display_data",
          "data": {
            "image/png": "[encoded data removed]",
            "text/plain": [
              "<Figure size 432x288 with 1 Axes>"
            ]
          },
          "metadata": {
            "tags": [],
            "needs_background": "light"
          }
        },
        {
          "output_type": "display_data",
          "data": {
            "image/png": "[encoded data removed]",
            "text/plain": [
              "<Figure size 432x288 with 1 Axes>"
            ]
          },
          "metadata": {
            "tags": [],
            "needs_background": "light"
          }
        },
        {
          "output_type": "stream",
          "text": [
            "For SVC\n",
            "\tbest value of C - 0.1\n",
            "\twith accuracy = 0.8376716808371484\n"
          ],
          "name": "stdout"
        }
      ]
    },
    {
      "cell_type": "markdown",
      "metadata": {
        "id": "L_SMofY0nHzX"
      },
      "source": [
        "**Model Training**"
      ]
    },
    {
      "cell_type": "code",
      "metadata": {
        "id": "cx2vcC2cp5dB"
      },
      "source": [
        "from sklearn.model_selection import train_test_split\r\n",
        "from sklearn.metrics import confusion_matrix\r\n",
        "\r\n",
        "X_train,X_test,y_train,y_test = train_test_split(X_features,y_gender,test_size=0.2)"
      ],
      "execution_count": null,
      "outputs": []
    },
    {
      "cell_type": "code",
      "metadata": {
        "colab": {
          "base_uri": "https://localhost:8080/"
        },
        "id": "rtQiXRH0n-JX",
        "outputId": "f2af194a-68e8-420b-84f0-217c35c1a2e8"
      },
      "source": [
        "#Logistic Regression\r\n",
        "\r\n",
        "from sklearn.linear_model import LogisticRegression\r\n",
        "LR_model = LogisticRegression(C=1, max_iter=2000)\r\n",
        "LR_model.fit(X_train,y_train)\r\n",
        "\r\n",
        "LR_predict = LR_model.predict(X_test)\r\n",
        "\r\n",
        "print(\"Logistic Regression accuracy score : {}\".format(accuracy_score(y_test,LR_predict)))"
      ],
      "execution_count": null,
      "outputs": [
        {
          "output_type": "stream",
          "text": [
            "Logistic Regression accuracy score : 0.8427076520601701\n"
          ],
          "name": "stdout"
        }
      ]
    },
    {
      "cell_type": "code",
      "metadata": {
        "colab": {
          "base_uri": "https://localhost:8080/"
        },
        "id": "H5Alc2ylWX9D",
        "outputId": "835477d6-6bc5-47fd-b2b8-c778d047626d"
      },
      "source": [
        "print(\"Confusion matrix for Logistic Regression model - \")\r\n",
        "print(confusion_matrix(y_test,LR_predict))"
      ],
      "execution_count": null,
      "outputs": [
        {
          "output_type": "stream",
          "text": [
            "Confusion matrix for Logistic Regression model - \n",
            "[[1024  297]\n",
            " [ 184 1553]]\n"
          ],
          "name": "stdout"
        }
      ]
    },
    {
      "cell_type": "code",
      "metadata": {
        "colab": {
          "base_uri": "https://localhost:8080/"
        },
        "id": "kvpEi0jHEFIn",
        "outputId": "658e9e8e-0c63-491f-c327-197fcf3c47b8"
      },
      "source": [
        "#Did we over-fit\r\n",
        "\r\n",
        "LR_model = LogisticRegression(C=1, max_iter=2000)\r\n",
        "LR_model.fit(X_train,y_train)\r\n",
        "\r\n",
        "LR_train_predict = LR_model.predict(X_train)\r\n",
        "\r\n",
        "print(\"Logistic Regression training accuracy : {}\".format(accuracy_score(y_train,LR_train_predict)))"
      ],
      "execution_count": null,
      "outputs": [
        {
          "output_type": "stream",
          "text": [
            "Logistic Regression training accuracy : 0.9420372792674951\n"
          ],
          "name": "stdout"
        }
      ]
    },
    {
      "cell_type": "code",
      "metadata": {
        "colab": {
          "base_uri": "https://localhost:8080/"
        },
        "id": "soFwog_ZqjRZ",
        "outputId": "5db5454b-15bf-4f2c-fbc9-4be476c93f22"
      },
      "source": [
        "#KNN\r\n",
        "\r\n",
        "from sklearn.neighbors import KNeighborsClassifier\r\n",
        "\r\n",
        "KNeighbor = KNeighborsClassifier(n_neighbors=2, weights='uniform')\r\n",
        "KNeighbor.fit(X_train,y_train)\r\n",
        "\r\n",
        "KNN_predict = KNeighbor.predict(X_test)\r\n",
        "\r\n",
        "print(\"KNN : {}\".format(accuracy_score(y_test,KNN_predict)))"
      ],
      "execution_count": null,
      "outputs": [
        {
          "output_type": "stream",
          "text": [
            "KNN : 0.6386527141922825\n"
          ],
          "name": "stdout"
        }
      ]
    },
    {
      "cell_type": "code",
      "metadata": {
        "colab": {
          "base_uri": "https://localhost:8080/"
        },
        "id": "LS8lXZryXOm3",
        "outputId": "d988dc1a-b4d6-48e3-aa66-69f9d39809f5"
      },
      "source": [
        "print(\"Confusion matrix for KNN model - \")\r\n",
        "print(confusion_matrix(y_test,KNN_predict))"
      ],
      "execution_count": null,
      "outputs": [
        {
          "output_type": "stream",
          "text": [
            "Confusion matrix for KNN model - \n",
            "[[ 740  581]\n",
            " [ 524 1213]]\n"
          ],
          "name": "stdout"
        }
      ]
    },
    {
      "cell_type": "code",
      "metadata": {
        "colab": {
          "base_uri": "https://localhost:8080/"
        },
        "id": "3ClU2RO6tyUK",
        "outputId": "4f896842-fc7c-482d-ecf6-d660d37abf9a"
      },
      "source": [
        "#SVM\r\n",
        "from sklearn.svm import LinearSVC\r\n",
        "\r\n",
        "SVC_model = LinearSVC(C=0.1,max_iter=2000) \r\n",
        "SVC_model.fit(X_train,y_train)\r\n",
        "\r\n",
        "SVC_predict = SVC_model.predict(X_test)\r\n",
        "\r\n",
        "print(\"SVC : {}\".format(accuracy_score(y_test,SVC_predict)))"
      ],
      "execution_count": null,
      "outputs": [
        {
          "output_type": "stream",
          "text": [
            "SVC : 0.8397645519947678\n"
          ],
          "name": "stdout"
        }
      ]
    },
    {
      "cell_type": "code",
      "metadata": {
        "colab": {
          "base_uri": "https://localhost:8080/"
        },
        "id": "BzI8hu-iXP2G",
        "outputId": "77350180-6117-4afd-e5b4-1ea4bdb7bdeb"
      },
      "source": [
        "print(\"Confusion matrix for SVC model - \")\r\n",
        "print(confusion_matrix(y_test,SVC_predict))"
      ],
      "execution_count": null,
      "outputs": [
        {
          "output_type": "stream",
          "text": [
            "Confusion matrix for SVC model - \n",
            "[[1021  300]\n",
            " [ 190 1547]]\n"
          ],
          "name": "stdout"
        }
      ]
    },
    {
      "cell_type": "code",
      "metadata": {
        "colab": {
          "base_uri": "https://localhost:8080/"
        },
        "id": "HvPiPUmdMUad",
        "outputId": "302fc1d2-92f8-4fd5-fa5a-ec9902f53ef8"
      },
      "source": [
        "#Dummy classifier\r\n",
        "from sklearn.dummy import DummyClassifier\r\n",
        "dummy = DummyClassifier(strategy=\"most_frequent\")\r\n",
        "\r\n",
        "dummy.fit(X_train,y_train)\r\n",
        "dummy_prediction = dummy.predict(X_test)\r\n",
        "\r\n",
        "print(\"Dummy classifier accuracy score : {}\".format(accuracy_score(y_test,dummy_prediction)))\r\n"
      ],
      "execution_count": null,
      "outputs": [
        {
          "output_type": "stream",
          "text": [
            "Dummy classifier accuracy score : 0.5680183126226291\n"
          ],
          "name": "stdout"
        }
      ]
    },
    {
      "cell_type": "code",
      "metadata": {
        "colab": {
          "base_uri": "https://localhost:8080/"
        },
        "id": "7G3KAcKkXQeO",
        "outputId": "043d0ac1-c7d0-4813-f3f5-74639b4a1885"
      },
      "source": [
        "print(\"Confusion matrix for Dummy classifier - \")\r\n",
        "print(confusion_matrix(y_test,dummy_prediction))"
      ],
      "execution_count": null,
      "outputs": [
        {
          "output_type": "stream",
          "text": [
            "Confusion matrix for Dummy classifier - \n",
            "[[   0 1321]\n",
            " [   0 1737]]\n"
          ],
          "name": "stdout"
        }
      ]
    },
    {
      "cell_type": "code",
      "metadata": {
        "id": "IZWT2EABN_sj"
      },
      "source": [
        "def plot_roc(fpr,tpr,parameter):\r\n",
        "    '''\r\n",
        "    Creates ROC curves\r\n",
        "    '''\r\n",
        "    plt.plot(fpr,tpr,color='navy')\r\n",
        "    plt.xlabel(\"False Positive Rate\",fontweight='bold')\r\n",
        "    plt.ylabel(\"True Positive Rate\",fontweight='bold')\r\n",
        "    plt.title(\"ROC Curve for \"+parameter,fontweight='bold')\r\n",
        "    plt.plot([0,1],[0,1],color='red',linestyle='--')\r\n",
        "    plt.show()"
      ],
      "execution_count": null,
      "outputs": []
    },
    {
      "cell_type": "code",
      "metadata": {
        "colab": {
          "base_uri": "https://localhost:8080/",
          "height": 1000
        },
        "id": "RaOeWh9lRT9m",
        "outputId": "cbb7622d-41df-4c90-bca6-d9a2b17ec624"
      },
      "source": [
        "from sklearn.metrics import roc_curve\r\n",
        "from sklearn.model_selection import cross_val_score\r\n",
        "\r\n",
        "LR_fpr,LR_tpr,_ = roc_curve(y_test,LR_model.decision_function(X_test), pos_label=['Male'])\r\n",
        "plot_roc(LR_fpr,LR_tpr,\"Logistic Regression\")\r\n",
        "\r\n",
        "\r\n",
        "y_scores = KNeighbor.predict_proba(X_test)\r\n",
        "KNN_fpr,KNN_tpr,_ = roc_curve(y_test,y_scores[:,1], pos_label=['Male'])      #y_scores col 1 -> prob estimate of + class\r\n",
        "plot_roc(KNN_fpr,KNN_tpr,\"K Neighbors\")\r\n",
        "\r\n",
        "SVC_fpr,SVC_tpr,_ = roc_curve(y_test,SVC_model.decision_function(X_test), pos_label=['Male'])\r\n",
        "plot_roc(SVC_fpr, SVC_tpr, \"Support Vector Classifier\")\r\n",
        "\r\n",
        "y_scores = dummy.predict_proba(X_test)\r\n",
        "dummy_fpr,dummy_tpr,_ = roc_curve(y_test,y_scores[:,1],pos_label=['Male'])\r\n",
        "plt.scatter(dummy_fpr,dummy_tpr,color='navy')\r\n",
        "plt.xlabel(\"False Positive Rate\",fontweight='bold')\r\n",
        "plt.ylabel(\"True Positive Rate\",fontweight='bold')\r\n",
        "plt.title(\"ROC Curve for Baseline model\",fontweight='bold')\r\n",
        "plt.plot([0,1],[0,1],color='red',linestyle='--')\r\n",
        "plt.show()"
      ],
      "execution_count": null,
      "outputs": [
        {
          "output_type": "display_data",
          "data": {
            "image/png": "[encoded data removed]",
            "text/plain": [
              "<Figure size 432x288 with 1 Axes>"
            ]
          },
          "metadata": {
            "tags": [],
            "needs_background": "light"
          }
        },
        {
          "output_type": "display_data",
          "data": {
            "image/png": "[encoded data removed]",
            "text/plain": [
              "<Figure size 432x288 with 1 Axes>"
            ]
          },
          "metadata": {
            "tags": [],
            "needs_background": "light"
          }
        },
        {
          "output_type": "display_data",
          "data": {
            "image/png": "[encoded data removed]",
            "text/plain": [
              "<Figure size 432x288 with 1 Axes>"
            ]
          },
          "metadata": {
            "tags": [],
            "needs_background": "light"
          }
        },
        {
          "output_type": "display_data",
          "data": {
            "image/png": "[encoded data removed]",
            "text/plain": [
              "<Figure size 432x288 with 1 Axes>"
            ]
          },
          "metadata": {
            "tags": [],
            "needs_background": "light"
          }
        }
      ]
    },
    {
      "cell_type": "markdown",
      "metadata": {
        "id": "pLn_H5IEnPIU"
      },
      "source": [
        "**Predicting Politician Name**\r\n",
        "\r\n",
        "Cross-validation for countvectorization"
      ]
    },
    {
      "cell_type": "code",
      "metadata": {
        "colab": {
          "base_uri": "https://localhost:8080/",
          "height": 686
        },
        "id": "Piph1-LDD329",
        "outputId": "00ddafb4-4114-406a-800a-50fd03a181d3"
      },
      "source": [
        "#cross validation for Max_df\r\n",
        "max_df_range = [0.4,0.5,0.6,0.7,0.8,0.9]\r\n",
        "\r\n",
        "\r\n",
        "max_accuracy_LR = []\r\n",
        "max_accuracy_KNN = []\r\n",
        "max_accuracy_SVC = []\r\n",
        "\r\n",
        "for max_df_value in max_df_range:\r\n",
        "    print(max_df_value)\r\n",
        "    count_vector = CountVectorizer(max_features=5000, ngram_range=(1,2), max_df = max_df_value)\r\n",
        "    X_cross_features = count_vector.fit_transform(X_document)\r\n",
        "    X_cross_features.todense()\r\n",
        "    max_accuracy_LR.append(cross_val_LR(X_cross_features,y_person))\r\n",
        "    max_accuracy_KNN.append(cross_val_KNN(X_cross_features,y_person))\r\n",
        "    max_accuracy_SVC.append(cross_val_SVC(X_cross_features,y_person))\r\n",
        "\r\n",
        "accuracy_errorbar(max_accuracy_LR,max_df_range,\"Max_df\", \"Logistic Regression : Max_df\")\r\n",
        "accuracy_errorbar(max_accuracy_KNN,max_df_range,\"Max_df\", \"KNN : Max_df\")\r\n",
        "accuracy_errorbar(max_accuracy_SVC,max_df_range,\"Max_df\", \"SVC : Max_df\")"
      ],
      "execution_count": null,
      "outputs": [
        {
          "output_type": "stream",
          "text": [
            "0.4\n"
          ],
          "name": "stdout"
        },
        {
          "output_type": "stream",
          "text": [
            "/usr/local/lib/python3.6/dist-packages/sklearn/svm/_base.py:947: ConvergenceWarning: Liblinear failed to converge, increase the number of iterations.\n",
            "  \"the number of iterations.\", ConvergenceWarning)\n"
          ],
          "name": "stderr"
        },
        {
          "output_type": "stream",
          "text": [
            "0.5\n"
          ],
          "name": "stdout"
        },
        {
          "output_type": "stream",
          "text": [
            "/usr/local/lib/python3.6/dist-packages/sklearn/svm/_base.py:947: ConvergenceWarning: Liblinear failed to converge, increase the number of iterations.\n",
            "  \"the number of iterations.\", ConvergenceWarning)\n"
          ],
          "name": "stderr"
        },
        {
          "output_type": "stream",
          "text": [
            "0.6\n"
          ],
          "name": "stdout"
        },
        {
          "output_type": "stream",
          "text": [
            "/usr/local/lib/python3.6/dist-packages/sklearn/svm/_base.py:947: ConvergenceWarning: Liblinear failed to converge, increase the number of iterations.\n",
            "  \"the number of iterations.\", ConvergenceWarning)\n"
          ],
          "name": "stderr"
        },
        {
          "output_type": "stream",
          "text": [
            "0.7\n"
          ],
          "name": "stdout"
        },
        {
          "output_type": "stream",
          "text": [
            "/usr/local/lib/python3.6/dist-packages/sklearn/svm/_base.py:947: ConvergenceWarning: Liblinear failed to converge, increase the number of iterations.\n",
            "  \"the number of iterations.\", ConvergenceWarning)\n"
          ],
          "name": "stderr"
        },
        {
          "output_type": "stream",
          "text": [
            "0.8\n"
          ],
          "name": "stdout"
        },
        {
          "output_type": "stream",
          "text": [
            "/usr/local/lib/python3.6/dist-packages/sklearn/svm/_base.py:947: ConvergenceWarning: Liblinear failed to converge, increase the number of iterations.\n",
            "  \"the number of iterations.\", ConvergenceWarning)\n"
          ],
          "name": "stderr"
        },
        {
          "output_type": "stream",
          "text": [
            "0.9\n"
          ],
          "name": "stdout"
        },
        {
          "output_type": "stream",
          "text": [
            "/usr/local/lib/python3.6/dist-packages/sklearn/svm/_base.py:947: ConvergenceWarning: Liblinear failed to converge, increase the number of iterations.\n",
            "  \"the number of iterations.\", ConvergenceWarning)\n"
          ],
          "name": "stderr"
        },
        {
          "output_type": "display_data",
          "data": {
            "image/png": "[encoded data removed]",
            "text/plain": [
              "<Figure size 432x288 with 1 Axes>"
            ]
          },
          "metadata": {
            "tags": [],
            "needs_background": "light"
          }
        },
        {
          "output_type": "stream",
          "text": [
            "For SVC : Max_df\n",
            "\tbest model parameter value = 0.1\n",
            "\tbest Max_df value = 0.6\n",
            "\twith accuracy score = 0.7810987573577501\n"
          ],
          "name": "stdout"
        }
      ]
    },
    {
      "cell_type": "code",
      "metadata": {
        "colab": {
          "base_uri": "https://localhost:8080/",
          "height": 740
        },
        "id": "GdxKSFd6n0hY",
        "outputId": "7f1904a0-1f40-45d6-9bb1-c7ac90d46261"
      },
      "source": [
        "#cross validation for Min_df\r\n",
        "min_df_range = [0,0.1,0.2,0.3,0.4,0.5,0.6]\r\n",
        "min_accuracy_LR = []\r\n",
        "min_accuracy_KNN = []\r\n",
        "min_accuracy_SVC = []\r\n",
        "\r\n",
        "for min_df_value in min_df_range:\r\n",
        "    print(min_df_value)\r\n",
        "    count_vector = CountVectorizer(max_features=5000, ngram_range=(1,2), min_df = min_df_value)\r\n",
        "    X_cross_features = count_vector.fit_transform(X_document)\r\n",
        "    X_cross_features.todense()\r\n",
        "    min_accuracy_LR.append(cross_val_LR(X_cross_features,y_person))\r\n",
        "    min_accuracy_KNN.append(cross_val_KNN(X_cross_features,y_person))\r\n",
        "    min_accuracy_SVC.append(cross_val_SVC(X_cross_features,y_person))\r\n",
        "\r\n",
        "accuracy_errorbar(min_accuracy_LR,min_df_range,\"Min_df\", \"Logistic Regression : Min_df\")\r\n",
        "accuracy_errorbar(min_accuracy_KNN,min_df_range,\"Min_df\", \"KNN : Min_df\")\r\n",
        "accuracy_errorbar(min_accuracy_SVC,min_df_range,\"Min_df\", \"SVC : Min_df\")"
      ],
      "execution_count": null,
      "outputs": [
        {
          "output_type": "stream",
          "text": [
            "0\n"
          ],
          "name": "stdout"
        },
        {
          "output_type": "stream",
          "text": [
            "/usr/local/lib/python3.6/dist-packages/sklearn/svm/_base.py:947: ConvergenceWarning: Liblinear failed to converge, increase the number of iterations.\n",
            "  \"the number of iterations.\", ConvergenceWarning)\n"
          ],
          "name": "stderr"
        },
        {
          "output_type": "stream",
          "text": [
            "0.1\n"
          ],
          "name": "stdout"
        },
        {
          "output_type": "stream",
          "text": [
            "/usr/local/lib/python3.6/dist-packages/sklearn/svm/_base.py:947: ConvergenceWarning: Liblinear failed to converge, increase the number of iterations.\n",
            "  \"the number of iterations.\", ConvergenceWarning)\n"
          ],
          "name": "stderr"
        },
        {
          "output_type": "stream",
          "text": [
            "0.2\n"
          ],
          "name": "stdout"
        },
        {
          "output_type": "stream",
          "text": [
            "/usr/local/lib/python3.6/dist-packages/sklearn/svm/_base.py:947: ConvergenceWarning: Liblinear failed to converge, increase the number of iterations.\n",
            "  \"the number of iterations.\", ConvergenceWarning)\n"
          ],
          "name": "stderr"
        },
        {
          "output_type": "stream",
          "text": [
            "0.3\n"
          ],
          "name": "stdout"
        },
        {
          "output_type": "stream",
          "text": [
            "/usr/local/lib/python3.6/dist-packages/sklearn/svm/_base.py:947: ConvergenceWarning: Liblinear failed to converge, increase the number of iterations.\n",
            "  \"the number of iterations.\", ConvergenceWarning)\n"
          ],
          "name": "stderr"
        },
        {
          "output_type": "stream",
          "text": [
            "0.4\n"
          ],
          "name": "stdout"
        },
        {
          "output_type": "stream",
          "text": [
            "/usr/local/lib/python3.6/dist-packages/sklearn/svm/_base.py:947: ConvergenceWarning: Liblinear failed to converge, increase the number of iterations.\n",
            "  \"the number of iterations.\", ConvergenceWarning)\n"
          ],
          "name": "stderr"
        },
        {
          "output_type": "stream",
          "text": [
            "0.5\n"
          ],
          "name": "stdout"
        },
        {
          "output_type": "stream",
          "text": [
            "/usr/local/lib/python3.6/dist-packages/sklearn/svm/_base.py:947: ConvergenceWarning: Liblinear failed to converge, increase the number of iterations.\n",
            "  \"the number of iterations.\", ConvergenceWarning)\n"
          ],
          "name": "stderr"
        },
        {
          "output_type": "stream",
          "text": [
            "0.6\n"
          ],
          "name": "stdout"
        },
        {
          "output_type": "stream",
          "text": [
            "/usr/local/lib/python3.6/dist-packages/sklearn/svm/_base.py:947: ConvergenceWarning: Liblinear failed to converge, increase the number of iterations.\n",
            "  \"the number of iterations.\", ConvergenceWarning)\n"
          ],
          "name": "stderr"
        },
        {
          "output_type": "display_data",
          "data": {
            "image/png": "[encoded data removed]",
            "text/plain": [
              "<Figure size 432x288 with 1 Axes>"
            ]
          },
          "metadata": {
            "tags": [],
            "needs_background": "light"
          }
        },
        {
          "output_type": "stream",
          "text": [
            "For SVC : Min_df\n",
            "\tbest model parameter value = 0.1\n",
            "\tbest Min_df value = 0\n",
            "\twith accuracy score = 0.780117724002616\n"
          ],
          "name": "stdout"
        }
      ]
    },
    {
      "cell_type": "code",
      "metadata": {
        "id": "Vi051nTrn0ei",
        "colab": {
          "base_uri": "https://localhost:8080/",
          "height": 686
        },
        "outputId": "a4c5e7c1-48c4-47ea-96f8-97dbc7d4e615"
      },
      "source": [
        "#cross validation for Max_features\r\n",
        "max_features_range = [100,500,1000,2000,3000,5000]\r\n",
        "\r\n",
        "\r\n",
        "features_accuracy_LR = []\r\n",
        "features_accuracy_KNN = []\r\n",
        "features_accuracy_SVC = []\r\n",
        "\r\n",
        "for max_features_value in max_features_range:\r\n",
        "    print(max_features_value)\r\n",
        "    count_vector = CountVectorizer(max_features=max_features_value, ngram_range=(1,2))\r\n",
        "    X_cross_features = count_vector.fit_transform(X_document)\r\n",
        "    X_cross_features.todense()\r\n",
        "    features_accuracy_LR.append(cross_val_LR(X_cross_features,y_person))\r\n",
        "    features_accuracy_KNN.append(cross_val_KNN(X_cross_features,y_person))\r\n",
        "    features_accuracy_SVC.append(cross_val_SVC(X_cross_features,y_person))\r\n",
        "\r\n",
        "accuracy_errorbar(features_accuracy_LR,max_features_range,\"Max_features\", \"Logistic Regression : max_features\")\r\n",
        "accuracy_errorbar(features_accuracy_KNN,max_features_range,\"Max_features\", \"KNN : max_features\")\r\n",
        "accuracy_errorbar(features_accuracy_SVC,max_features_range,\"Max_features\", \"SVC : max_features\")"
      ],
      "execution_count": null,
      "outputs": [
        {
          "output_type": "stream",
          "text": [
            "100\n"
          ],
          "name": "stdout"
        },
        {
          "output_type": "stream",
          "text": [
            "/usr/local/lib/python3.6/dist-packages/sklearn/svm/_base.py:947: ConvergenceWarning: Liblinear failed to converge, increase the number of iterations.\n",
            "  \"the number of iterations.\", ConvergenceWarning)\n"
          ],
          "name": "stderr"
        },
        {
          "output_type": "stream",
          "text": [
            "500\n"
          ],
          "name": "stdout"
        },
        {
          "output_type": "stream",
          "text": [
            "/usr/local/lib/python3.6/dist-packages/sklearn/svm/_base.py:947: ConvergenceWarning: Liblinear failed to converge, increase the number of iterations.\n",
            "  \"the number of iterations.\", ConvergenceWarning)\n"
          ],
          "name": "stderr"
        },
        {
          "output_type": "stream",
          "text": [
            "1000\n"
          ],
          "name": "stdout"
        },
        {
          "output_type": "stream",
          "text": [
            "/usr/local/lib/python3.6/dist-packages/sklearn/svm/_base.py:947: ConvergenceWarning: Liblinear failed to converge, increase the number of iterations.\n",
            "  \"the number of iterations.\", ConvergenceWarning)\n"
          ],
          "name": "stderr"
        },
        {
          "output_type": "stream",
          "text": [
            "2000\n"
          ],
          "name": "stdout"
        },
        {
          "output_type": "stream",
          "text": [
            "/usr/local/lib/python3.6/dist-packages/sklearn/svm/_base.py:947: ConvergenceWarning: Liblinear failed to converge, increase the number of iterations.\n",
            "  \"the number of iterations.\", ConvergenceWarning)\n"
          ],
          "name": "stderr"
        },
        {
          "output_type": "stream",
          "text": [
            "3000\n"
          ],
          "name": "stdout"
        },
        {
          "output_type": "stream",
          "text": [
            "/usr/local/lib/python3.6/dist-packages/sklearn/svm/_base.py:947: ConvergenceWarning: Liblinear failed to converge, increase the number of iterations.\n",
            "  \"the number of iterations.\", ConvergenceWarning)\n"
          ],
          "name": "stderr"
        },
        {
          "output_type": "stream",
          "text": [
            "5000\n"
          ],
          "name": "stdout"
        },
        {
          "output_type": "stream",
          "text": [
            "/usr/local/lib/python3.6/dist-packages/sklearn/svm/_base.py:947: ConvergenceWarning: Liblinear failed to converge, increase the number of iterations.\n",
            "  \"the number of iterations.\", ConvergenceWarning)\n"
          ],
          "name": "stderr"
        },
        {
          "output_type": "display_data",
          "data": {
            "image/png": "[encoded data removed]",
            "text/plain": [
              "<Figure size 432x288 with 1 Axes>"
            ]
          },
          "metadata": {
            "tags": [],
            "needs_background": "light"
          }
        },
        {
          "output_type": "stream",
          "text": [
            "For SVC : max_features\n",
            "\tbest model parameter value = 0.1\n",
            "\tbest Max_features value = 5000\n",
            "\twith accuracy score = 0.780117724002616\n"
          ],
          "name": "stdout"
        }
      ]
    },
    {
      "cell_type": "code",
      "metadata": {
        "id": "5eAACcssn0bL",
        "colab": {
          "base_uri": "https://localhost:8080/",
          "height": 472
        },
        "outputId": "8ffaf709-601b-40db-f135-e704b2bf7c0a"
      },
      "source": [
        "#Cross-validation for ngram_range\r\n",
        "\r\n",
        "max_ngram_range=[1,2,3]\r\n",
        "\r\n",
        "ngram_accuracy_LR = []\r\n",
        "ngram_accuracy_KNN = []\r\n",
        "ngram_accuracy_SVC = []\r\n",
        "\r\n",
        "for max_ngram_value in max_ngram_range:\r\n",
        "    count_vector = CountVectorizer(max_features=2000, ngram_range=(1,max_ngram_value))\r\n",
        "    X_cross_features = count_vector.fit_transform(X_document)\r\n",
        "    X_cross_features.todense()\r\n",
        "    ngram_accuracy_LR.append(cross_val_LR(X_cross_features,y_person))\r\n",
        "    ngram_accuracy_KNN.append(cross_val_KNN(X_cross_features,y_person))\r\n",
        "    ngram_accuracy_SVC.append(cross_val_SVC(X_cross_features,y_person))\r\n",
        "\r\n",
        "accuracy_errorbar(ngram_accuracy_LR,max_ngram_range,\"ngram\", \"Logistic Regression : ngram_range\")\r\n",
        "accuracy_errorbar(ngram_accuracy_KNN,max_ngram_range,\"ngram\", \"KNN : ngram_range\")\r\n",
        "accuracy_errorbar(ngram_accuracy_SVC,max_ngram_range,\"ngram\", \"SVC : ngram_range\")"
      ],
      "execution_count": null,
      "outputs": [
        {
          "output_type": "stream",
          "text": [
            "/usr/local/lib/python3.6/dist-packages/sklearn/svm/_base.py:947: ConvergenceWarning: Liblinear failed to converge, increase the number of iterations.\n",
            "  \"the number of iterations.\", ConvergenceWarning)\n",
            "/usr/local/lib/python3.6/dist-packages/sklearn/svm/_base.py:947: ConvergenceWarning: Liblinear failed to converge, increase the number of iterations.\n",
            "  \"the number of iterations.\", ConvergenceWarning)\n",
            "/usr/local/lib/python3.6/dist-packages/sklearn/svm/_base.py:947: ConvergenceWarning: Liblinear failed to converge, increase the number of iterations.\n",
            "  \"the number of iterations.\", ConvergenceWarning)\n"
          ],
          "name": "stderr"
        },
        {
          "output_type": "display_data",
          "data": {
            "image/png": "[encoded data removed]",
            "text/plain": [
              "<Figure size 432x288 with 1 Axes>"
            ]
          },
          "metadata": {
            "tags": [],
            "needs_background": "light"
          }
        },
        {
          "output_type": "stream",
          "text": [
            "For SVC : ngram_range\n",
            "\tbest model parameter value = 0.1\n",
            "\tbest ngram value = 1\n",
            "\twith accuracy score = 0.7512099411379987\n"
          ],
          "name": "stdout"
        }
      ]
    },
    {
      "cell_type": "markdown",
      "metadata": {
        "id": "A5GnP4ArFyaa"
      },
      "source": [
        "Model Selection"
      ]
    },
    {
      "cell_type": "code",
      "metadata": {
        "id": "SQcAMbaWn0Xt",
        "colab": {
          "base_uri": "https://localhost:8080/"
        },
        "outputId": "7adb2981-4864-4e0a-8447-c17fa375b53c"
      },
      "source": [
        "#Vectorizing our dataset\r\n",
        "from sklearn.feature_extraction.text import CountVectorizer\r\n",
        "count_vec = CountVectorizer(max_features = 5000, ngram_range = (1,1), min_df = 0, max_df=0.6)\r\n",
        "\r\n",
        "X_features = count_vec.fit_transform(X_document)\r\n",
        "X_features.todense()\r\n"
      ],
      "execution_count": null,
      "outputs": [
        {
          "output_type": "execute_result",
          "data": {
            "text/plain": [
              "matrix([[0, 0, 0, ..., 0, 0, 0],\n",
              "        [0, 0, 0, ..., 0, 0, 0],\n",
              "        [0, 0, 0, ..., 0, 0, 0],\n",
              "        ...,\n",
              "        [0, 0, 0, ..., 0, 0, 0],\n",
              "        [0, 0, 0, ..., 0, 0, 0],\n",
              "        [0, 0, 0, ..., 0, 0, 0]])"
            ]
          },
          "metadata": {
            "tags": []
          },
          "execution_count": 88
        }
      ]
    },
    {
      "cell_type": "code",
      "metadata": {
        "colab": {
          "base_uri": "https://localhost:8080/",
          "height": 626
        },
        "id": "nlPLV782n0Ph",
        "outputId": "7f7d43da-7881-4ae9-b5d4-c0a6fcadef25"
      },
      "source": [
        "#Error-bars for Logistic Regression C Value\r\n",
        "from sklearn.linear_model import LogisticRegression\r\n",
        "\r\n",
        "def error_bar_LR(X,y):\r\n",
        "\r\n",
        "    C_range = [0.01,0.1,1,10,100]\r\n",
        "\r\n",
        "    mean_accuracy=[]\r\n",
        "    std_accuracy=[]\r\n",
        "\r\n",
        "    for C_value in C_range:\r\n",
        "        temp=[]\r\n",
        "        for train,test in kf.split(X):\r\n",
        "            model = LogisticRegression(C=C_value, max_iter=2000).fit(X[train],y[train])\r\n",
        "            prediction = model.predict(X[test])\r\n",
        "            temp.append(accuracy_score(y[test],prediction))\r\n",
        "        mean_accuracy.append(np.array(temp).mean())\r\n",
        "        std_accuracy.append(np.array(temp).std())\r\n",
        "\r\n",
        "    #Error bar for Logistic Regression\r\n",
        "    error_plots(C_range,mean_accuracy,std_accuracy,\"C range\",\"for Logistic Regression\")\r\n",
        "    error_plots(C_range[:4],mean_accuracy[:4],std_accuracy[:4],\"C range\",\"for Logistic Regression\")\r\n",
        "\r\n",
        "    print(\"For Logistic Regression\\n\\tbest value of C - {}\\n\\twith accuracy = {}\".\r\n",
        "          format(C_range[mean_accuracy.index(max(mean_accuracy))],max(mean_accuracy)))\r\n",
        "\r\n",
        "error_bar_LR(X_features,y_person)"
      ],
      "execution_count": null,
      "outputs": [
        {
          "output_type": "display_data",
          "data": {
            "image/png": "[encoded data removed]",
            "text/plain": [
              "<Figure size 432x288 with 1 Axes>"
            ]
          },
          "metadata": {
            "tags": [],
            "needs_background": "light"
          }
        },
        {
          "output_type": "display_data",
          "data": {
            "image/png": "[encoded data removed]",
            "text/plain": [
              "<Figure size 432x288 with 1 Axes>"
            ]
          },
          "metadata": {
            "tags": [],
            "needs_background": "light"
          }
        },
        {
          "output_type": "stream",
          "text": [
            "For Logistic Regression\n",
            "\tbest value of C - 1\n",
            "\twith accuracy = 0.7662524525833879\n"
          ],
          "name": "stdout"
        }
      ]
    },
    {
      "cell_type": "code",
      "metadata": {
        "colab": {
          "base_uri": "https://localhost:8080/",
          "height": 347
        },
        "id": "LBhYlJJrocXs",
        "outputId": "e61fcc3f-3f07-4a68-cd1a-c9641e623892"
      },
      "source": [
        "#Error bar for KNN\r\n",
        "from sklearn.neighbors import KNeighborsClassifier\r\n",
        "\r\n",
        "def error_bar_KNN(X,y):\r\n",
        "    K_range = [2,3,4,5,6,7,8,9,10]\r\n",
        "\r\n",
        "    mean_accuracy=[]\r\n",
        "    std_accuracy=[]\r\n",
        "    for K_value in K_range:\r\n",
        "        temp=[]\r\n",
        "        for train,test in kf.split(X):\r\n",
        "            model = KNeighborsClassifier(n_neighbors=K_value).fit(X[train],y[train])\r\n",
        "            prediction = model.predict(X[test])\r\n",
        "            temp.append(accuracy_score(y[test],prediction))\r\n",
        "        mean_accuracy.append(np.array(temp).mean())\r\n",
        "        std_accuracy.append(np.array(temp).std())\r\n",
        "\r\n",
        "    #Error bar for KNN\r\n",
        "    error_plots(K_range,mean_accuracy,std_accuracy,\"C range\",\"for KNN\")\r\n",
        "\r\n",
        "    print(\"For KNN\\n\\tbest value of K - {}\\n\\twith accuracy = {}\".\r\n",
        "          format(K_range[mean_accuracy.index(max(mean_accuracy))],max(mean_accuracy)))\r\n",
        "\r\n",
        "error_bar_KNN(X_features,y_person)"
      ],
      "execution_count": null,
      "outputs": [
        {
          "output_type": "display_data",
          "data": {
            "image/png": "[encoded data removed]",
            "text/plain": [
              "<Figure size 432x288 with 1 Axes>"
            ]
          },
          "metadata": {
            "tags": [],
            "needs_background": "light"
          }
        },
        {
          "output_type": "stream",
          "text": [
            "For KNN\n",
            "\tbest value of K - 2\n",
            "\twith accuracy = 0.4387181164159582\n"
          ],
          "name": "stdout"
        }
      ]
    },
    {
      "cell_type": "code",
      "metadata": {
        "colab": {
          "base_uri": "https://localhost:8080/",
          "height": 662
        },
        "id": "CzJg1USRocVw",
        "outputId": "7bd87815-7dbe-4734-837b-c888ac6ff8d1"
      },
      "source": [
        "#Error bar for SVM C Value\r\n",
        "from sklearn.svm import LinearSVC\r\n",
        "\r\n",
        "def error_bar_SVC(X,y):\r\n",
        "\r\n",
        "    C_range = [0.01,0.1,1,10,100]\r\n",
        "\r\n",
        "    mean_accuracy=[]\r\n",
        "    std_accuracy=[]\r\n",
        "\r\n",
        "    for C_value in C_range:\r\n",
        "        temp=[]\r\n",
        "        for train,test in kf.split(X):\r\n",
        "            model = LinearSVC(C=C_value,max_iter=1000).fit(X[train],y[train])\r\n",
        "            prediction = model.predict(X[test])\r\n",
        "            temp.append(accuracy_score(y[test],prediction))\r\n",
        "        mean_accuracy.append(np.array(temp).mean())\r\n",
        "        std_accuracy.append(np.array(temp).std())\r\n",
        "    \r\n",
        "    #Error bar for SVC\r\n",
        "    error_plots(C_range,mean_accuracy,std_accuracy,\"C range\",\"for SVC\")\r\n",
        "    error_plots(C_range[:3],mean_accuracy[:3],std_accuracy[:3],\"C range\",\"for SVC\")\r\n",
        "\r\n",
        "    print(\"For SVC\\n\\tbest value of C - {}\\n\\twith accuracy = {}\".\r\n",
        "          format(C_range[mean_accuracy.index(max(mean_accuracy))],max(mean_accuracy)))\r\n",
        "\r\n",
        "error_bar_SVC(X_features,y_person)"
      ],
      "execution_count": null,
      "outputs": [
        {
          "output_type": "stream",
          "text": [
            "/usr/local/lib/python3.6/dist-packages/sklearn/svm/_base.py:947: ConvergenceWarning: Liblinear failed to converge, increase the number of iterations.\n",
            "  \"the number of iterations.\", ConvergenceWarning)\n"
          ],
          "name": "stderr"
        },
        {
          "output_type": "display_data",
          "data": {
            "image/png": "[encoded data removed]",
            "text/plain": [
              "<Figure size 432x288 with 1 Axes>"
            ]
          },
          "metadata": {
            "tags": [],
            "needs_background": "light"
          }
        },
        {
          "output_type": "display_data",
          "data": {
            "image/png": "[encoded data removed]",
            "text/plain": [
              "<Figure size 432x288 with 1 Axes>"
            ]
          },
          "metadata": {
            "tags": [],
            "needs_background": "light"
          }
        },
        {
          "output_type": "stream",
          "text": [
            "For SVC\n",
            "\tbest value of C - 0.1\n",
            "\twith accuracy = 0.7733812949640289\n"
          ],
          "name": "stdout"
        }
      ]
    },
    {
      "cell_type": "markdown",
      "metadata": {
        "id": "SkjThhBIekyi"
      },
      "source": [
        "Training models"
      ]
    },
    {
      "cell_type": "code",
      "metadata": {
        "id": "xoIApNnsocSM"
      },
      "source": [
        "from sklearn.model_selection import train_test_split\r\n",
        "from sklearn.metrics import confusion_matrix\r\n",
        "\r\n",
        "X_train,X_test,y_train,y_test = train_test_split(X_features,y_person,test_size=0.2)"
      ],
      "execution_count": null,
      "outputs": []
    },
    {
      "cell_type": "code",
      "metadata": {
        "id": "FKmjS3olocPN",
        "colab": {
          "base_uri": "https://localhost:8080/"
        },
        "outputId": "d56a21f4-d2b6-4713-bdc5-909a57e6d2dd"
      },
      "source": [
        "#Logistic Regression\r\n",
        "\r\n",
        "from sklearn.linear_model import LogisticRegression\r\n",
        "LR_model = LogisticRegression(C=1, max_iter=2000)\r\n",
        "LR_model.fit(X_train,y_train)\r\n",
        "\r\n",
        "LR_predict = LR_model.predict(X_test)\r\n",
        "\r\n",
        "print(\"Logistic Regression accuracy score : {}\".format(accuracy_score(y_test,LR_predict)))"
      ],
      "execution_count": null,
      "outputs": [
        {
          "output_type": "stream",
          "text": [
            "Logistic Regression accuracy score : 0.7596468279921518\n"
          ],
          "name": "stdout"
        }
      ]
    },
    {
      "cell_type": "code",
      "metadata": {
        "colab": {
          "base_uri": "https://localhost:8080/"
        },
        "id": "mFXAx0GKesqi",
        "outputId": "4da270c0-6fac-4be2-a63e-55ac791934f2"
      },
      "source": [
        "print(\"Confusion matrix for Logistic Regression model - \")\r\n",
        "print(confusion_matrix(y_test,LR_predict))"
      ],
      "execution_count": null,
      "outputs": [
        {
          "output_type": "stream",
          "text": [
            "Confusion matrix for Logistic Regression model - \n",
            "[[466  14  38   9  21  17]\n",
            " [  4 569  21  14  11   2]\n",
            " [ 27  49 321  42  70   5]\n",
            " [ 15  32  44 421  58   1]\n",
            " [ 15  16  62  58 380   6]\n",
            " [ 14  10  13   6  11 196]]\n"
          ],
          "name": "stdout"
        }
      ]
    },
    {
      "cell_type": "code",
      "metadata": {
        "colab": {
          "base_uri": "https://localhost:8080/"
        },
        "id": "YoTtniC8esks",
        "outputId": "70182870-13ec-4aee-a421-8c0ec66221f3"
      },
      "source": [
        "#KNN\r\n",
        "from sklearn.neighbors import KNeighborsClassifier\r\n",
        "KNeighbor = KNeighborsClassifier(n_neighbors=2, weights='uniform')\r\n",
        "KNeighbor.fit(X_train,y_train)\r\n",
        "KNN_predict = KNeighbor.predict(X_test)\r\n",
        "print(\"KNN : {}\".format(accuracy_score(y_test,KNN_predict)))"
      ],
      "execution_count": null,
      "outputs": [
        {
          "output_type": "stream",
          "text": [
            "KNN : 0.41137998691955524\n"
          ],
          "name": "stdout"
        }
      ]
    },
    {
      "cell_type": "code",
      "metadata": {
        "colab": {
          "base_uri": "https://localhost:8080/"
        },
        "id": "Cy8Hf1n5eshb",
        "outputId": "5013bad2-23d4-455c-cf48-26d2b2a52ec6"
      },
      "source": [
        "print(\"Confusion matrix for KNN model - \")\r\n",
        "print(confusion_matrix(y_test,KNN_predict))"
      ],
      "execution_count": null,
      "outputs": [
        {
          "output_type": "stream",
          "text": [
            "Confusion matrix for KNN model - \n",
            "[[449  88  22   4   1   1]\n",
            " [150 445  20   6   0   0]\n",
            " [165 246  86  12   5   0]\n",
            " [120 181  80 176  14   0]\n",
            " [168 175  87  52  55   0]\n",
            " [ 97  76  20   6   4  47]]\n"
          ],
          "name": "stdout"
        }
      ]
    },
    {
      "cell_type": "code",
      "metadata": {
        "colab": {
          "base_uri": "https://localhost:8080/"
        },
        "id": "xCCnnSeieseQ",
        "outputId": "793e480a-bacb-42a6-fbbc-9e3885f9eb4a"
      },
      "source": [
        "#SVM\r\n",
        "from sklearn.svm import LinearSVC\r\n",
        "\r\n",
        "SVC_model = LinearSVC(C=0.1,max_iter=2000)\r\n",
        "SVC_model.fit(X_train,y_train)\r\n",
        "\r\n",
        "SVC_predict = SVC_model.predict(X_test)\r\n",
        "\r\n",
        "print(\"SVC accuracy score : {}\".format(accuracy_score(y_test,SVC_predict)))"
      ],
      "execution_count": null,
      "outputs": [
        {
          "output_type": "stream",
          "text": [
            "SVC accuracy score : 0.7710922171353826\n"
          ],
          "name": "stdout"
        }
      ]
    },
    {
      "cell_type": "code",
      "metadata": {
        "colab": {
          "base_uri": "https://localhost:8080/"
        },
        "id": "oaRZR_TPesbg",
        "outputId": "85d72571-60ea-4478-ff92-c72f71d85416"
      },
      "source": [
        "print(\"Confusion matrix for SVC model - \")\r\n",
        "print(confusion_matrix(y_test,SVC_predict))"
      ],
      "execution_count": null,
      "outputs": [
        {
          "output_type": "stream",
          "text": [
            "Confusion matrix for SVC model - \n",
            "[[472  16  18  13  19  26]\n",
            " [  7 556   8  18   8   1]\n",
            " [ 20  46 313  44  58   7]\n",
            " [ 19  38  29 489  62   9]\n",
            " [ 18  29  51  75 365   5]\n",
            " [ 25   7  12   5   7 163]]\n"
          ],
          "name": "stdout"
        }
      ]
    },
    {
      "cell_type": "code",
      "metadata": {
        "colab": {
          "base_uri": "https://localhost:8080/"
        },
        "id": "roxkUclCesnk",
        "outputId": "6026ee3a-b468-4606-e11f-b48dcd8219e7"
      },
      "source": [
        "#Did we over-fit\r\n",
        "\r\n",
        "SVC_model = LinearSVC(C=0.1, max_iter=2000)\r\n",
        "SVC_model.fit(X_train,y_train)\r\n",
        "\r\n",
        "SVC_train_predict = SVC_model.predict(X_train)\r\n",
        "\r\n",
        "print(\"SVC training accuracy : {}\".format(accuracy_score(y_train,SVC_train_predict)))"
      ],
      "execution_count": null,
      "outputs": [
        {
          "output_type": "stream",
          "text": [
            "SVC training accuracy : 0.9355788096795291\n"
          ],
          "name": "stdout"
        }
      ]
    },
    {
      "cell_type": "code",
      "metadata": {
        "colab": {
          "base_uri": "https://localhost:8080/"
        },
        "id": "a_D4jgjXesYT",
        "outputId": "e70483d5-d2b8-4777-a294-4d04e80ff1fa"
      },
      "source": [
        "#Dummy classifier\r\n",
        "from sklearn.dummy import DummyClassifier\r\n",
        "dummy = DummyClassifier(strategy=\"most_frequent\")\r\n",
        "\r\n",
        "dummy.fit(X_train,y_train)\r\n",
        "dummy_prediction = dummy.predict(X_test)\r\n",
        "\r\n",
        "print(\"Dummy classifier accuracy score : {}\".format(accuracy_score(y_test,dummy_prediction)))\r\n"
      ],
      "execution_count": null,
      "outputs": [
        {
          "output_type": "stream",
          "text": [
            "Dummy classifier accuracy score : 0.1867233485938522\n"
          ],
          "name": "stdout"
        }
      ]
    },
    {
      "cell_type": "code",
      "metadata": {
        "colab": {
          "base_uri": "https://localhost:8080/"
        },
        "id": "BtdlTSUYesVn",
        "outputId": "83132c58-966c-4c6f-fe92-29ad09a36474"
      },
      "source": [
        "print(\"Confusion matrix for Dummy classifier - \")\r\n",
        "print(confusion_matrix(y_test,dummy_prediction))"
      ],
      "execution_count": null,
      "outputs": [
        {
          "output_type": "stream",
          "text": [
            "Confusion matrix for Dummy classifier - \n",
            "[[  0   0   0 565   0   0]\n",
            " [  0   0   0 621   0   0]\n",
            " [  0   0   0 514   0   0]\n",
            " [  0   0   0 571   0   0]\n",
            " [  0   0   0 537   0   0]\n",
            " [  0   0   0 250   0   0]]\n"
          ],
          "name": "stdout"
        }
      ]
    },
    {
      "cell_type": "code",
      "metadata": {
        "id": "FmQ5694MioFS"
      },
      "source": [
        ""
      ],
      "execution_count": null,
      "outputs": []
    }
  ]
}